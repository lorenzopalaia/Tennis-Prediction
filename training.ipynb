{
  "cells": [
    {
      "cell_type": "markdown",
      "metadata": {},
      "source": [
        "# Tennis Match Prediction Using Neural Networks"
      ]
    },
    {
      "cell_type": "markdown",
      "metadata": {},
      "source": [
        "## Importing Required Libraries"
      ]
    },
    {
      "cell_type": "code",
      "execution_count": 35,
      "metadata": {
        "id": "_53YTCWfwhMj"
      },
      "outputs": [],
      "source": [
        "import pandas as pd\n",
        "import numpy as np\n",
        "from sklearn.preprocessing import LabelEncoder\n",
        "\n",
        "from sklearn.preprocessing import StandardScaler\n",
        "\n",
        "from sklearn.model_selection import train_test_split\n",
        "\n",
        "from tensorflow.keras.models import Sequential\n",
        "from tensorflow.keras.layers import Dense\n",
        "from tensorflow.keras.regularizers import l2\n",
        "from tensorflow.keras.optimizers import Adam, SGD\n",
        "\n",
        "from sklearn.model_selection import GridSearchCV\n",
        "\n",
        "from sklearn.metrics import classification_report\n",
        "\n",
        "import itertools\n",
        "\n",
        "import warnings\n",
        "warnings.filterwarnings('ignore')"
      ]
    },
    {
      "cell_type": "markdown",
      "metadata": {},
      "source": [
        "## Loading and Exploring the Dataset\n",
        "This code loads the tennis match data from a CSV file and displays the first few rows to get an initial view of the dataset."
      ]
    },
    {
      "cell_type": "code",
      "execution_count": 2,
      "metadata": {
        "colab": {
          "base_uri": "https://localhost:8080/",
          "height": 206
        },
        "id": "SgwuUetRxlnW",
        "outputId": "1592744e-7cb2-41f4-ee52-02f8c10e14c6"
      },
      "outputs": [
        {
          "data": {
            "application/vnd.google.colaboratory.intrinsic+json": {
              "summary": "{\n  \"name\": \"df\",\n  \"rows\": 63751,\n  \"fields\": [\n    {\n      \"column\": \"Tournament\",\n      \"properties\": {\n        \"dtype\": \"category\",\n        \"num_unique_values\": 264,\n        \"samples\": [\n          \"Masters Cup\",\n          \"Istanbul Open\",\n          \"Gelsor Open\"\n        ],\n        \"semantic_type\": \"\",\n        \"description\": \"\"\n      }\n    },\n    {\n      \"column\": \"Date\",\n      \"properties\": {\n        \"dtype\": \"object\",\n        \"num_unique_values\": 6169,\n        \"samples\": [\n          \"2024-04-05\",\n          \"2004-01-16\",\n          \"2007-10-13\"\n        ],\n        \"semantic_type\": \"\",\n        \"description\": \"\"\n      }\n    },\n    {\n      \"column\": \"Series\",\n      \"properties\": {\n        \"dtype\": \"category\",\n        \"num_unique_values\": 8,\n        \"samples\": [\n          \"Grand Slam\",\n          \"ATP250\",\n          \"International\"\n        ],\n        \"semantic_type\": \"\",\n        \"description\": \"\"\n      }\n    },\n    {\n      \"column\": \"Court\",\n      \"properties\": {\n        \"dtype\": \"category\",\n        \"num_unique_values\": 2,\n        \"samples\": [\n          \"Indoor\",\n          \"Outdoor\"\n        ],\n        \"semantic_type\": \"\",\n        \"description\": \"\"\n      }\n    },\n    {\n      \"column\": \"Surface\",\n      \"properties\": {\n        \"dtype\": \"category\",\n        \"num_unique_values\": 4,\n        \"samples\": [\n          \"Clay\",\n          \"Carpet\"\n        ],\n        \"semantic_type\": \"\",\n        \"description\": \"\"\n      }\n    },\n    {\n      \"column\": \"Round\",\n      \"properties\": {\n        \"dtype\": \"category\",\n        \"num_unique_values\": 8,\n        \"samples\": [\n          \"2nd Round\",\n          \"3rd Round\"\n        ],\n        \"semantic_type\": \"\",\n        \"description\": \"\"\n      }\n    },\n    {\n      \"column\": \"Best of\",\n      \"properties\": {\n        \"dtype\": \"number\",\n        \"std\": 0,\n        \"min\": 3,\n        \"max\": 5,\n        \"num_unique_values\": 2,\n        \"samples\": [\n          5,\n          3\n        ],\n        \"semantic_type\": \"\",\n        \"description\": \"\"\n      }\n    },\n    {\n      \"column\": \"Player_1\",\n      \"properties\": {\n        \"dtype\": \"category\",\n        \"num_unique_values\": 1464,\n        \"samples\": [\n          \"Cerundolo J.M.\",\n          \"Meligeni F.\"\n        ],\n        \"semantic_type\": \"\",\n        \"description\": \"\"\n      }\n    },\n    {\n      \"column\": \"Player_2\",\n      \"properties\": {\n        \"dtype\": \"category\",\n        \"num_unique_values\": 1458,\n        \"samples\": [\n          \"Collarini A.\",\n          \"Ferrer D. \"\n        ],\n        \"semantic_type\": \"\",\n        \"description\": \"\"\n      }\n    },\n    {\n      \"column\": \"Winner\",\n      \"properties\": {\n        \"dtype\": \"category\",\n        \"num_unique_values\": 1134,\n        \"samples\": [\n          \"Gonzalez A.\",\n          \"Ivashka I.\"\n        ],\n        \"semantic_type\": \"\",\n        \"description\": \"\"\n      }\n    },\n    {\n      \"column\": \"Rank_1\",\n      \"properties\": {\n        \"dtype\": \"number\",\n        \"std\": 101,\n        \"min\": -1,\n        \"max\": 3390,\n        \"num_unique_values\": 858,\n        \"samples\": [\n          706,\n          1055\n        ],\n        \"semantic_type\": \"\",\n        \"description\": \"\"\n      }\n    },\n    {\n      \"column\": \"Rank_2\",\n      \"properties\": {\n        \"dtype\": \"number\",\n        \"std\": 101,\n        \"min\": -1,\n        \"max\": 4915,\n        \"num_unique_values\": 841,\n        \"samples\": [\n          964,\n          2135\n        ],\n        \"semantic_type\": \"\",\n        \"description\": \"\"\n      }\n    },\n    {\n      \"column\": \"Pts_1\",\n      \"properties\": {\n        \"dtype\": \"number\",\n        \"std\": 1709,\n        \"min\": -1,\n        \"max\": 16950,\n        \"num_unique_values\": 3139,\n        \"samples\": [\n          6050,\n          349\n        ],\n        \"semantic_type\": \"\",\n        \"description\": \"\"\n      }\n    },\n    {\n      \"column\": \"Pts_2\",\n      \"properties\": {\n        \"dtype\": \"number\",\n        \"std\": 1737,\n        \"min\": -1,\n        \"max\": 16950,\n        \"num_unique_values\": 3136,\n        \"samples\": [\n          737,\n          463\n        ],\n        \"semantic_type\": \"\",\n        \"description\": \"\"\n      }\n    },\n    {\n      \"column\": \"Odd_1\",\n      \"properties\": {\n        \"dtype\": \"number\",\n        \"std\": 2.6630459579873182,\n        \"min\": -1.0,\n        \"max\": 67.0,\n        \"num_unique_values\": 1938,\n        \"samples\": [\n          1.60875,\n          1.76\n        ],\n        \"semantic_type\": \"\",\n        \"description\": \"\"\n      }\n    },\n    {\n      \"column\": \"Odd_2\",\n      \"properties\": {\n        \"dtype\": \"number\",\n        \"std\": 2.639281784798295,\n        \"min\": -1.0,\n        \"max\": 51.0,\n        \"num_unique_values\": 1938,\n        \"samples\": [\n          1.60525,\n          1.5917500000000002\n        ],\n        \"semantic_type\": \"\",\n        \"description\": \"\"\n      }\n    },\n    {\n      \"column\": \"Score\",\n      \"properties\": {\n        \"dtype\": \"category\",\n        \"num_unique_values\": 6929,\n        \"samples\": [\n          \"6-7 6-4 2-6 6-4 6-1\",\n          \"3-6 6-7 6-2 6-0 7-6\"\n        ],\n        \"semantic_type\": \"\",\n        \"description\": \"\"\n      }\n    }\n  ]\n}",
              "type": "dataframe",
              "variable_name": "df"
            },
            "text/html": [
              "\n",
              "  <div id=\"df-051f5bed-f257-4230-a36f-4f482134dec1\" class=\"colab-df-container\">\n",
              "    <div>\n",
              "<style scoped>\n",
              "    .dataframe tbody tr th:only-of-type {\n",
              "        vertical-align: middle;\n",
              "    }\n",
              "\n",
              "    .dataframe tbody tr th {\n",
              "        vertical-align: top;\n",
              "    }\n",
              "\n",
              "    .dataframe thead th {\n",
              "        text-align: right;\n",
              "    }\n",
              "</style>\n",
              "<table border=\"1\" class=\"dataframe\">\n",
              "  <thead>\n",
              "    <tr style=\"text-align: right;\">\n",
              "      <th></th>\n",
              "      <th>Tournament</th>\n",
              "      <th>Date</th>\n",
              "      <th>Series</th>\n",
              "      <th>Court</th>\n",
              "      <th>Surface</th>\n",
              "      <th>Round</th>\n",
              "      <th>Best of</th>\n",
              "      <th>Player_1</th>\n",
              "      <th>Player_2</th>\n",
              "      <th>Winner</th>\n",
              "      <th>Rank_1</th>\n",
              "      <th>Rank_2</th>\n",
              "      <th>Pts_1</th>\n",
              "      <th>Pts_2</th>\n",
              "      <th>Odd_1</th>\n",
              "      <th>Odd_2</th>\n",
              "      <th>Score</th>\n",
              "    </tr>\n",
              "  </thead>\n",
              "  <tbody>\n",
              "    <tr>\n",
              "      <th>0</th>\n",
              "      <td>Australian Hardcourt Championships</td>\n",
              "      <td>2000-01-03</td>\n",
              "      <td>International</td>\n",
              "      <td>Outdoor</td>\n",
              "      <td>Hard</td>\n",
              "      <td>1st Round</td>\n",
              "      <td>3</td>\n",
              "      <td>Dosedel S.</td>\n",
              "      <td>Ljubicic I.</td>\n",
              "      <td>Dosedel S.</td>\n",
              "      <td>63</td>\n",
              "      <td>77</td>\n",
              "      <td>-1</td>\n",
              "      <td>-1</td>\n",
              "      <td>-1.0</td>\n",
              "      <td>-1.0</td>\n",
              "      <td>6-4 6-2</td>\n",
              "    </tr>\n",
              "    <tr>\n",
              "      <th>1</th>\n",
              "      <td>Australian Hardcourt Championships</td>\n",
              "      <td>2000-01-03</td>\n",
              "      <td>International</td>\n",
              "      <td>Outdoor</td>\n",
              "      <td>Hard</td>\n",
              "      <td>1st Round</td>\n",
              "      <td>3</td>\n",
              "      <td>Clement A.</td>\n",
              "      <td>Enqvist T.</td>\n",
              "      <td>Enqvist T.</td>\n",
              "      <td>56</td>\n",
              "      <td>5</td>\n",
              "      <td>-1</td>\n",
              "      <td>-1</td>\n",
              "      <td>-1.0</td>\n",
              "      <td>-1.0</td>\n",
              "      <td>3-6 3-6</td>\n",
              "    </tr>\n",
              "    <tr>\n",
              "      <th>2</th>\n",
              "      <td>Australian Hardcourt Championships</td>\n",
              "      <td>2000-01-03</td>\n",
              "      <td>International</td>\n",
              "      <td>Outdoor</td>\n",
              "      <td>Hard</td>\n",
              "      <td>1st Round</td>\n",
              "      <td>3</td>\n",
              "      <td>Escude N.</td>\n",
              "      <td>Baccanello P.</td>\n",
              "      <td>Escude N.</td>\n",
              "      <td>40</td>\n",
              "      <td>655</td>\n",
              "      <td>-1</td>\n",
              "      <td>-1</td>\n",
              "      <td>-1.0</td>\n",
              "      <td>-1.0</td>\n",
              "      <td>6-7 7-5 6-3</td>\n",
              "    </tr>\n",
              "    <tr>\n",
              "      <th>3</th>\n",
              "      <td>Australian Hardcourt Championships</td>\n",
              "      <td>2000-01-03</td>\n",
              "      <td>International</td>\n",
              "      <td>Outdoor</td>\n",
              "      <td>Hard</td>\n",
              "      <td>1st Round</td>\n",
              "      <td>3</td>\n",
              "      <td>Knippschild J.</td>\n",
              "      <td>Federer R.</td>\n",
              "      <td>Federer R.</td>\n",
              "      <td>87</td>\n",
              "      <td>65</td>\n",
              "      <td>-1</td>\n",
              "      <td>-1</td>\n",
              "      <td>-1.0</td>\n",
              "      <td>-1.0</td>\n",
              "      <td>1-6 4-6</td>\n",
              "    </tr>\n",
              "    <tr>\n",
              "      <th>4</th>\n",
              "      <td>Australian Hardcourt Championships</td>\n",
              "      <td>2000-01-03</td>\n",
              "      <td>International</td>\n",
              "      <td>Outdoor</td>\n",
              "      <td>Hard</td>\n",
              "      <td>1st Round</td>\n",
              "      <td>3</td>\n",
              "      <td>Fromberg R.</td>\n",
              "      <td>Woodbridge T.</td>\n",
              "      <td>Fromberg R.</td>\n",
              "      <td>81</td>\n",
              "      <td>198</td>\n",
              "      <td>-1</td>\n",
              "      <td>-1</td>\n",
              "      <td>-1.0</td>\n",
              "      <td>-1.0</td>\n",
              "      <td>7-6 5-7 6-4</td>\n",
              "    </tr>\n",
              "  </tbody>\n",
              "</table>\n",
              "</div>\n",
              "    <div class=\"colab-df-buttons\">\n",
              "\n",
              "  <div class=\"colab-df-container\">\n",
              "    <button class=\"colab-df-convert\" onclick=\"convertToInteractive('df-051f5bed-f257-4230-a36f-4f482134dec1')\"\n",
              "            title=\"Convert this dataframe to an interactive table.\"\n",
              "            style=\"display:none;\">\n",
              "\n",
              "  <svg xmlns=\"http://www.w3.org/2000/svg\" height=\"24px\" viewBox=\"0 -960 960 960\">\n",
              "    <path d=\"M120-120v-720h720v720H120Zm60-500h600v-160H180v160Zm220 220h160v-160H400v160Zm0 220h160v-160H400v160ZM180-400h160v-160H180v160Zm440 0h160v-160H620v160ZM180-180h160v-160H180v160Zm440 0h160v-160H620v160Z\"/>\n",
              "  </svg>\n",
              "    </button>\n",
              "\n",
              "  <style>\n",
              "    .colab-df-container {\n",
              "      display:flex;\n",
              "      gap: 12px;\n",
              "    }\n",
              "\n",
              "    .colab-df-convert {\n",
              "      background-color: #E8F0FE;\n",
              "      border: none;\n",
              "      border-radius: 50%;\n",
              "      cursor: pointer;\n",
              "      display: none;\n",
              "      fill: #1967D2;\n",
              "      height: 32px;\n",
              "      padding: 0 0 0 0;\n",
              "      width: 32px;\n",
              "    }\n",
              "\n",
              "    .colab-df-convert:hover {\n",
              "      background-color: #E2EBFA;\n",
              "      box-shadow: 0px 1px 2px rgba(60, 64, 67, 0.3), 0px 1px 3px 1px rgba(60, 64, 67, 0.15);\n",
              "      fill: #174EA6;\n",
              "    }\n",
              "\n",
              "    .colab-df-buttons div {\n",
              "      margin-bottom: 4px;\n",
              "    }\n",
              "\n",
              "    [theme=dark] .colab-df-convert {\n",
              "      background-color: #3B4455;\n",
              "      fill: #D2E3FC;\n",
              "    }\n",
              "\n",
              "    [theme=dark] .colab-df-convert:hover {\n",
              "      background-color: #434B5C;\n",
              "      box-shadow: 0px 1px 3px 1px rgba(0, 0, 0, 0.15);\n",
              "      filter: drop-shadow(0px 1px 2px rgba(0, 0, 0, 0.3));\n",
              "      fill: #FFFFFF;\n",
              "    }\n",
              "  </style>\n",
              "\n",
              "    <script>\n",
              "      const buttonEl =\n",
              "        document.querySelector('#df-051f5bed-f257-4230-a36f-4f482134dec1 button.colab-df-convert');\n",
              "      buttonEl.style.display =\n",
              "        google.colab.kernel.accessAllowed ? 'block' : 'none';\n",
              "\n",
              "      async function convertToInteractive(key) {\n",
              "        const element = document.querySelector('#df-051f5bed-f257-4230-a36f-4f482134dec1');\n",
              "        const dataTable =\n",
              "          await google.colab.kernel.invokeFunction('convertToInteractive',\n",
              "                                                    [key], {});\n",
              "        if (!dataTable) return;\n",
              "\n",
              "        const docLinkHtml = 'Like what you see? Visit the ' +\n",
              "          '<a target=\"_blank\" href=https://colab.research.google.com/notebooks/data_table.ipynb>data table notebook</a>'\n",
              "          + ' to learn more about interactive tables.';\n",
              "        element.innerHTML = '';\n",
              "        dataTable['output_type'] = 'display_data';\n",
              "        await google.colab.output.renderOutput(dataTable, element);\n",
              "        const docLink = document.createElement('div');\n",
              "        docLink.innerHTML = docLinkHtml;\n",
              "        element.appendChild(docLink);\n",
              "      }\n",
              "    </script>\n",
              "  </div>\n",
              "\n",
              "\n",
              "<div id=\"df-cd21e29a-70d3-4acf-ab31-0d1e14c862fb\">\n",
              "  <button class=\"colab-df-quickchart\" onclick=\"quickchart('df-cd21e29a-70d3-4acf-ab31-0d1e14c862fb')\"\n",
              "            title=\"Suggest charts\"\n",
              "            style=\"display:none;\">\n",
              "\n",
              "<svg xmlns=\"http://www.w3.org/2000/svg\" height=\"24px\"viewBox=\"0 0 24 24\"\n",
              "     width=\"24px\">\n",
              "    <g>\n",
              "        <path d=\"M19 3H5c-1.1 0-2 .9-2 2v14c0 1.1.9 2 2 2h14c1.1 0 2-.9 2-2V5c0-1.1-.9-2-2-2zM9 17H7v-7h2v7zm4 0h-2V7h2v10zm4 0h-2v-4h2v4z\"/>\n",
              "    </g>\n",
              "</svg>\n",
              "  </button>\n",
              "\n",
              "<style>\n",
              "  .colab-df-quickchart {\n",
              "      --bg-color: #E8F0FE;\n",
              "      --fill-color: #1967D2;\n",
              "      --hover-bg-color: #E2EBFA;\n",
              "      --hover-fill-color: #174EA6;\n",
              "      --disabled-fill-color: #AAA;\n",
              "      --disabled-bg-color: #DDD;\n",
              "  }\n",
              "\n",
              "  [theme=dark] .colab-df-quickchart {\n",
              "      --bg-color: #3B4455;\n",
              "      --fill-color: #D2E3FC;\n",
              "      --hover-bg-color: #434B5C;\n",
              "      --hover-fill-color: #FFFFFF;\n",
              "      --disabled-bg-color: #3B4455;\n",
              "      --disabled-fill-color: #666;\n",
              "  }\n",
              "\n",
              "  .colab-df-quickchart {\n",
              "    background-color: var(--bg-color);\n",
              "    border: none;\n",
              "    border-radius: 50%;\n",
              "    cursor: pointer;\n",
              "    display: none;\n",
              "    fill: var(--fill-color);\n",
              "    height: 32px;\n",
              "    padding: 0;\n",
              "    width: 32px;\n",
              "  }\n",
              "\n",
              "  .colab-df-quickchart:hover {\n",
              "    background-color: var(--hover-bg-color);\n",
              "    box-shadow: 0 1px 2px rgba(60, 64, 67, 0.3), 0 1px 3px 1px rgba(60, 64, 67, 0.15);\n",
              "    fill: var(--button-hover-fill-color);\n",
              "  }\n",
              "\n",
              "  .colab-df-quickchart-complete:disabled,\n",
              "  .colab-df-quickchart-complete:disabled:hover {\n",
              "    background-color: var(--disabled-bg-color);\n",
              "    fill: var(--disabled-fill-color);\n",
              "    box-shadow: none;\n",
              "  }\n",
              "\n",
              "  .colab-df-spinner {\n",
              "    border: 2px solid var(--fill-color);\n",
              "    border-color: transparent;\n",
              "    border-bottom-color: var(--fill-color);\n",
              "    animation:\n",
              "      spin 1s steps(1) infinite;\n",
              "  }\n",
              "\n",
              "  @keyframes spin {\n",
              "    0% {\n",
              "      border-color: transparent;\n",
              "      border-bottom-color: var(--fill-color);\n",
              "      border-left-color: var(--fill-color);\n",
              "    }\n",
              "    20% {\n",
              "      border-color: transparent;\n",
              "      border-left-color: var(--fill-color);\n",
              "      border-top-color: var(--fill-color);\n",
              "    }\n",
              "    30% {\n",
              "      border-color: transparent;\n",
              "      border-left-color: var(--fill-color);\n",
              "      border-top-color: var(--fill-color);\n",
              "      border-right-color: var(--fill-color);\n",
              "    }\n",
              "    40% {\n",
              "      border-color: transparent;\n",
              "      border-right-color: var(--fill-color);\n",
              "      border-top-color: var(--fill-color);\n",
              "    }\n",
              "    60% {\n",
              "      border-color: transparent;\n",
              "      border-right-color: var(--fill-color);\n",
              "    }\n",
              "    80% {\n",
              "      border-color: transparent;\n",
              "      border-right-color: var(--fill-color);\n",
              "      border-bottom-color: var(--fill-color);\n",
              "    }\n",
              "    90% {\n",
              "      border-color: transparent;\n",
              "      border-bottom-color: var(--fill-color);\n",
              "    }\n",
              "  }\n",
              "</style>\n",
              "\n",
              "  <script>\n",
              "    async function quickchart(key) {\n",
              "      const quickchartButtonEl =\n",
              "        document.querySelector('#' + key + ' button');\n",
              "      quickchartButtonEl.disabled = true;  // To prevent multiple clicks.\n",
              "      quickchartButtonEl.classList.add('colab-df-spinner');\n",
              "      try {\n",
              "        const charts = await google.colab.kernel.invokeFunction(\n",
              "            'suggestCharts', [key], {});\n",
              "      } catch (error) {\n",
              "        console.error('Error during call to suggestCharts:', error);\n",
              "      }\n",
              "      quickchartButtonEl.classList.remove('colab-df-spinner');\n",
              "      quickchartButtonEl.classList.add('colab-df-quickchart-complete');\n",
              "    }\n",
              "    (() => {\n",
              "      let quickchartButtonEl =\n",
              "        document.querySelector('#df-cd21e29a-70d3-4acf-ab31-0d1e14c862fb button');\n",
              "      quickchartButtonEl.style.display =\n",
              "        google.colab.kernel.accessAllowed ? 'block' : 'none';\n",
              "    })();\n",
              "  </script>\n",
              "</div>\n",
              "\n",
              "    </div>\n",
              "  </div>\n"
            ],
            "text/plain": [
              "                           Tournament        Date         Series    Court  \\\n",
              "0  Australian Hardcourt Championships  2000-01-03  International  Outdoor   \n",
              "1  Australian Hardcourt Championships  2000-01-03  International  Outdoor   \n",
              "2  Australian Hardcourt Championships  2000-01-03  International  Outdoor   \n",
              "3  Australian Hardcourt Championships  2000-01-03  International  Outdoor   \n",
              "4  Australian Hardcourt Championships  2000-01-03  International  Outdoor   \n",
              "\n",
              "  Surface      Round  Best of        Player_1       Player_2       Winner  \\\n",
              "0    Hard  1st Round        3      Dosedel S.    Ljubicic I.   Dosedel S.   \n",
              "1    Hard  1st Round        3      Clement A.     Enqvist T.   Enqvist T.   \n",
              "2    Hard  1st Round        3       Escude N.  Baccanello P.    Escude N.   \n",
              "3    Hard  1st Round        3  Knippschild J.     Federer R.   Federer R.   \n",
              "4    Hard  1st Round        3     Fromberg R.  Woodbridge T.  Fromberg R.   \n",
              "\n",
              "   Rank_1  Rank_2  Pts_1  Pts_2  Odd_1  Odd_2        Score  \n",
              "0      63      77     -1     -1   -1.0   -1.0      6-4 6-2  \n",
              "1      56       5     -1     -1   -1.0   -1.0      3-6 3-6  \n",
              "2      40     655     -1     -1   -1.0   -1.0  6-7 7-5 6-3  \n",
              "3      87      65     -1     -1   -1.0   -1.0      1-6 4-6  \n",
              "4      81     198     -1     -1   -1.0   -1.0  7-6 5-7 6-4  "
            ]
          },
          "execution_count": 2,
          "metadata": {},
          "output_type": "execute_result"
        }
      ],
      "source": [
        "df = pd.read_csv('matches.csv')\n",
        "df.head()"
      ]
    },
    {
      "cell_type": "markdown",
      "metadata": {},
      "source": [
        "## Handling Missing Values\n",
        "Here we identify missing values (represented as -1 or -1.0) in the dataset and count how many rows contain missing values."
      ]
    },
    {
      "cell_type": "code",
      "execution_count": 3,
      "metadata": {
        "colab": {
          "base_uri": "https://localhost:8080/"
        },
        "id": "cPOnEEFfxyAI",
        "outputId": "7804beb3-0a6c-43b9-99f0-e89fafa958ce"
      },
      "outputs": [
        {
          "data": {
            "text/plain": [
              "(Tournament        0\n",
              " Date              0\n",
              " Series            0\n",
              " Court             0\n",
              " Surface           0\n",
              " Round             0\n",
              " Best of           0\n",
              " Player_1          0\n",
              " Player_2          0\n",
              " Winner            0\n",
              " Rank_1           14\n",
              " Rank_2           12\n",
              " Pts_1         15652\n",
              " Pts_2         15653\n",
              " Odd_1          3782\n",
              " Odd_2          3780\n",
              " Score             0\n",
              " dtype: int64,\n",
              " 15822)"
            ]
          },
          "execution_count": 3,
          "metadata": {},
          "output_type": "execute_result"
        }
      ],
      "source": [
        "missing_values = df.isin([-1, -1.0]).sum()\n",
        "\n",
        "rows_with_missing_values = df[(df == -1).any(axis=1) | (df == -1.0).any(axis=1)]\n",
        "\n",
        "missing_values, len(rows_with_missing_values)"
      ]
    },
    {
      "cell_type": "markdown",
      "metadata": {},
      "source": [
        "## Data Cleaning and Feature Engineering\n",
        "In this section, we clean the data by replacing missing values, drop unnecessary columns, encode the winner, and create new features based on the differences between players' ranks, points, and odds."
      ]
    },
    {
      "cell_type": "code",
      "execution_count": 4,
      "metadata": {
        "id": "SMo8zk8TyGoC"
      },
      "outputs": [],
      "source": [
        "df['Pts_1'].replace(-1, 0, inplace=True)\n",
        "df['Pts_2'].replace(-1, 0, inplace=True)\n",
        "df['Odd_1'].replace(-1.0, 1.0, inplace=True)\n",
        "df['Odd_2'].replace(-1.0, 1.0, inplace=True)"
      ]
    },
    {
      "cell_type": "code",
      "execution_count": 5,
      "metadata": {
        "id": "H2aWKQJryUZS"
      },
      "outputs": [],
      "source": [
        "df.drop(['Score'], axis=1, inplace=True)\n",
        "\n",
        "df['Winner'] = np.where(df['Winner'] == df['Player_1'], 1, 0)\n",
        "\n",
        "df['Rank_Diff'] = df['Rank_1'] - df['Rank_2']\n",
        "df['Pts_Diff'] = df['Pts_1'] - df['Pts_2']\n",
        "df['Odds_Diff'] = df['Odd_1'] - df['Odd_2']"
      ]
    },
    {
      "cell_type": "code",
      "execution_count": null,
      "metadata": {},
      "outputs": [],
      "source": [
        "df.to_csv('matches_final.csv', index=False)"
      ]
    },
    {
      "cell_type": "markdown",
      "metadata": {},
      "source": [
        "## Encoding Categorical Variables\n",
        "Here we encode categorical variables using LabelEncoder and convert the date to a numeric format."
      ]
    },
    {
      "cell_type": "code",
      "execution_count": 6,
      "metadata": {
        "id": "0DpAveVTy4ne"
      },
      "outputs": [],
      "source": [
        "le = LabelEncoder()\n",
        "df['Tournament'] = le.fit_transform(df['Tournament'])\n",
        "df['Series'] = le.fit_transform(df['Series'])\n",
        "df['Court'] = le.fit_transform(df['Court'])\n",
        "df['Surface'] = le.fit_transform(df['Surface'])\n",
        "df['Round'] = le.fit_transform(df['Round'])\n",
        "df['Player_1'] = le.fit_transform(df['Player_1'])\n",
        "df['Player_2'] = le.fit_transform(df['Player_2'])"
      ]
    },
    {
      "cell_type": "code",
      "execution_count": 7,
      "metadata": {
        "colab": {
          "base_uri": "https://localhost:8080/"
        },
        "id": "3pirFT4y0UVK",
        "outputId": "fb1e6f10-4359-476a-cf6a-2f61d73e3e2c"
      },
      "outputs": [
        {
          "name": "stdout",
          "output_type": "stream",
          "text": [
            "<class 'pandas.core.frame.DataFrame'>\n",
            "RangeIndex: 63751 entries, 0 to 63750\n",
            "Data columns (total 19 columns):\n",
            " #   Column      Non-Null Count  Dtype  \n",
            "---  ------      --------------  -----  \n",
            " 0   Tournament  63751 non-null  int64  \n",
            " 1   Date        63751 non-null  int64  \n",
            " 2   Series      63751 non-null  int64  \n",
            " 3   Court       63751 non-null  int64  \n",
            " 4   Surface     63751 non-null  int64  \n",
            " 5   Round       63751 non-null  int64  \n",
            " 6   Best of     63751 non-null  int64  \n",
            " 7   Player_1    63751 non-null  int64  \n",
            " 8   Player_2    63751 non-null  int64  \n",
            " 9   Winner      63751 non-null  int64  \n",
            " 10  Rank_1      63751 non-null  int64  \n",
            " 11  Rank_2      63751 non-null  int64  \n",
            " 12  Pts_1       63751 non-null  int64  \n",
            " 13  Pts_2       63751 non-null  int64  \n",
            " 14  Odd_1       63751 non-null  float64\n",
            " 15  Odd_2       63751 non-null  float64\n",
            " 16  Rank_Diff   63751 non-null  int64  \n",
            " 17  Pts_Diff    63751 non-null  int64  \n",
            " 18  Odds_Diff   63751 non-null  float64\n",
            "dtypes: float64(3), int64(16)\n",
            "memory usage: 9.2 MB\n"
          ]
        }
      ],
      "source": [
        "df['Date'] = pd.to_datetime(df['Date'])\n",
        "df['Date'] = df['Date'].astype(int) // 10**9\n",
        "df.info()"
      ]
    },
    {
      "cell_type": "markdown",
      "metadata": {},
      "source": [
        "## Feature Scaling\n",
        "We use StandardScaler to normalize numerical features, which helps in improving the model's performance."
      ]
    },
    {
      "cell_type": "code",
      "execution_count": 9,
      "metadata": {
        "id": "EIDSoNk31_C1"
      },
      "outputs": [],
      "source": [
        "scaler = StandardScaler()\n",
        "df[['Date', 'Rank_1', 'Rank_2', 'Pts_1', 'Pts_2', 'Odd_1', 'Odd_2', 'Rank_Diff', 'Pts_Diff', 'Odds_Diff']] = scaler.fit_transform(df[['Date', 'Rank_1', 'Rank_2', 'Pts_1', 'Pts_2', 'Odd_1', 'Odd_2', 'Rank_Diff', 'Pts_Diff', 'Odds_Diff']])"
      ]
    },
    {
      "cell_type": "markdown",
      "metadata": {},
      "source": [
        "## Splitting the Dataset\n",
        "The data is split into training and testing sets, with 80% used for training and 20% for testing."
      ]
    },
    {
      "cell_type": "code",
      "execution_count": 10,
      "metadata": {
        "id": "5Z_vgQwP2gxd"
      },
      "outputs": [],
      "source": [
        "X = df.drop(columns=['Winner'])\n",
        "y = df['Winner']\n",
        "X_train, X_test, y_train, y_test = train_test_split(X, y, test_size=0.2, random_state=42)"
      ]
    },
    {
      "cell_type": "markdown",
      "metadata": {},
      "source": [
        "## Building and Training Initial Models\n",
        "We build and train three different neural network models, each with slight variations, to compare their performance."
      ]
    },
    {
      "cell_type": "code",
      "execution_count": 11,
      "metadata": {
        "colab": {
          "base_uri": "https://localhost:8080/"
        },
        "id": "4PBLwOpJ3UEo",
        "outputId": "9c45326e-b5d6-4541-a556-c980fd2d9520"
      },
      "outputs": [
        {
          "name": "stderr",
          "output_type": "stream",
          "text": [
            "/usr/local/lib/python3.10/dist-packages/keras/src/layers/core/dense.py:87: UserWarning: Do not pass an `input_shape`/`input_dim` argument to a layer. When using Sequential models, prefer using an `Input(shape)` object as the first layer in the model instead.\n",
            "  super().__init__(activity_regularizer=activity_regularizer, **kwargs)\n"
          ]
        },
        {
          "name": "stdout",
          "output_type": "stream",
          "text": [
            "Epoch 1/10\n",
            "\u001b[1m1594/1594\u001b[0m \u001b[32m━━━━━━━━━━━━━━━━━━━━\u001b[0m\u001b[37m\u001b[0m \u001b[1m10s\u001b[0m 4ms/step - accuracy: 0.5777 - loss: 5.1280 - val_accuracy: 0.6178 - val_loss: 0.8007\n",
            "Epoch 2/10\n",
            "\u001b[1m1594/1594\u001b[0m \u001b[32m━━━━━━━━━━━━━━━━━━━━\u001b[0m\u001b[37m\u001b[0m \u001b[1m5s\u001b[0m 3ms/step - accuracy: 0.6194 - loss: 0.8294 - val_accuracy: 0.6294 - val_loss: 0.7424\n",
            "Epoch 3/10\n",
            "\u001b[1m1594/1594\u001b[0m \u001b[32m━━━━━━━━━━━━━━━━━━━━\u001b[0m\u001b[37m\u001b[0m \u001b[1m4s\u001b[0m 2ms/step - accuracy: 0.6321 - loss: 0.7735 - val_accuracy: 0.6574 - val_loss: 0.6349\n",
            "Epoch 4/10\n",
            "\u001b[1m1594/1594\u001b[0m \u001b[32m━━━━━━━━━━━━━━━━━━━━\u001b[0m\u001b[37m\u001b[0m \u001b[1m3s\u001b[0m 2ms/step - accuracy: 0.6312 - loss: 0.7617 - val_accuracy: 0.6641 - val_loss: 0.6268\n",
            "Epoch 5/10\n",
            "\u001b[1m1594/1594\u001b[0m \u001b[32m━━━━━━━━━━━━━━━━━━━━\u001b[0m\u001b[37m\u001b[0m \u001b[1m6s\u001b[0m 2ms/step - accuracy: 0.6328 - loss: 0.7252 - val_accuracy: 0.6527 - val_loss: 0.6207\n",
            "Epoch 6/10\n",
            "\u001b[1m1594/1594\u001b[0m \u001b[32m━━━━━━━━━━━━━━━━━━━━\u001b[0m\u001b[37m\u001b[0m \u001b[1m3s\u001b[0m 2ms/step - accuracy: 0.6358 - loss: 0.6819 - val_accuracy: 0.6145 - val_loss: 0.7167\n",
            "Epoch 7/10\n",
            "\u001b[1m1594/1594\u001b[0m \u001b[32m━━━━━━━━━━━━━━━━━━━━\u001b[0m\u001b[37m\u001b[0m \u001b[1m3s\u001b[0m 2ms/step - accuracy: 0.6441 - loss: 0.6601 - val_accuracy: 0.6642 - val_loss: 0.6092\n",
            "Epoch 8/10\n",
            "\u001b[1m1594/1594\u001b[0m \u001b[32m━━━━━━━━━━━━━━━━━━━━\u001b[0m\u001b[37m\u001b[0m \u001b[1m3s\u001b[0m 2ms/step - accuracy: 0.6430 - loss: 0.6620 - val_accuracy: 0.6411 - val_loss: 0.6463\n",
            "Epoch 9/10\n",
            "\u001b[1m1594/1594\u001b[0m \u001b[32m━━━━━━━━━━━━━━━━━━━━\u001b[0m\u001b[37m\u001b[0m \u001b[1m4s\u001b[0m 3ms/step - accuracy: 0.6523 - loss: 0.6260 - val_accuracy: 0.6690 - val_loss: 0.5985\n",
            "Epoch 10/10\n",
            "\u001b[1m1594/1594\u001b[0m \u001b[32m━━━━━━━━━━━━━━━━━━━━\u001b[0m\u001b[37m\u001b[0m \u001b[1m4s\u001b[0m 2ms/step - accuracy: 0.6554 - loss: 0.6171 - val_accuracy: 0.6651 - val_loss: 0.6015\n"
          ]
        },
        {
          "data": {
            "text/plain": [
              "<keras.src.callbacks.history.History at 0x79d4a78023b0>"
            ]
          },
          "execution_count": 11,
          "metadata": {},
          "output_type": "execute_result"
        }
      ],
      "source": [
        "model_1 = Sequential()\n",
        "model_1.add(Dense(64, input_dim=X_train.shape[1], activation='relu'))\n",
        "model_1.add(Dense(32, activation='relu'))\n",
        "model_1.add(Dense(1, activation='sigmoid'))\n",
        "\n",
        "model_1.compile(loss='binary_crossentropy', optimizer='adam', metrics=['accuracy'])\n",
        "model_1.fit(X_train, y_train, epochs=10, batch_size=32, validation_data=(X_test, y_test))"
      ]
    },
    {
      "cell_type": "code",
      "execution_count": 12,
      "metadata": {
        "colab": {
          "base_uri": "https://localhost:8080/"
        },
        "id": "cDdcoa194jNv",
        "outputId": "ce0f88f7-12c9-4aab-fcf7-23c88b276f64"
      },
      "outputs": [
        {
          "name": "stdout",
          "output_type": "stream",
          "text": [
            "\u001b[1m399/399\u001b[0m \u001b[32m━━━━━━━━━━━━━━━━━━━━\u001b[0m\u001b[37m\u001b[0m \u001b[1m1s\u001b[0m 1ms/step - accuracy: 0.6592 - loss: 0.6033\n",
            "Accuracy: 66.51\n",
            "\u001b[1m399/399\u001b[0m \u001b[32m━━━━━━━━━━━━━━━━━━━━\u001b[0m\u001b[37m\u001b[0m \u001b[1m1s\u001b[0m 2ms/step\n",
            "              precision    recall  f1-score   support\n",
            "\n",
            "           0       0.63      0.79      0.70      6343\n",
            "           1       0.72      0.54      0.62      6408\n",
            "\n",
            "    accuracy                           0.67     12751\n",
            "   macro avg       0.68      0.67      0.66     12751\n",
            "weighted avg       0.68      0.67      0.66     12751\n",
            "\n"
          ]
        }
      ],
      "source": [
        "_, accuracy = model_1.evaluate(X_test, y_test)\n",
        "print('Accuracy: %.2f' % (accuracy*100))\n",
        "\n",
        "y_pred = model_1.predict(X_test)\n",
        "y_pred = (y_pred > 0.5)\n",
        "\n",
        "print(classification_report(y_test, y_pred))"
      ]
    },
    {
      "cell_type": "code",
      "execution_count": 18,
      "metadata": {
        "colab": {
          "base_uri": "https://localhost:8080/"
        },
        "id": "k8hFm1QA-7Ms",
        "outputId": "bfcc6a9c-600b-4c24-b3a8-9aec24ff70f2"
      },
      "outputs": [
        {
          "name": "stdout",
          "output_type": "stream",
          "text": [
            "Epoch 1/10\n"
          ]
        },
        {
          "name": "stderr",
          "output_type": "stream",
          "text": [
            "/usr/local/lib/python3.10/dist-packages/keras/src/layers/core/dense.py:87: UserWarning: Do not pass an `input_shape`/`input_dim` argument to a layer. When using Sequential models, prefer using an `Input(shape)` object as the first layer in the model instead.\n",
            "  super().__init__(activity_regularizer=activity_regularizer, **kwargs)\n"
          ]
        },
        {
          "name": "stdout",
          "output_type": "stream",
          "text": [
            "\u001b[1m1594/1594\u001b[0m \u001b[32m━━━━━━━━━━━━━━━━━━━━\u001b[0m\u001b[37m\u001b[0m \u001b[1m7s\u001b[0m 3ms/step - accuracy: 0.5706 - loss: 2.1208 - val_accuracy: 0.6487 - val_loss: 0.6986\n",
            "Epoch 2/10\n",
            "\u001b[1m1594/1594\u001b[0m \u001b[32m━━━━━━━━━━━━━━━━━━━━\u001b[0m\u001b[37m\u001b[0m \u001b[1m4s\u001b[0m 2ms/step - accuracy: 0.6169 - loss: 0.8382 - val_accuracy: 0.6461 - val_loss: 0.6910\n",
            "Epoch 3/10\n",
            "\u001b[1m1594/1594\u001b[0m \u001b[32m━━━━━━━━━━━━━━━━━━━━\u001b[0m\u001b[37m\u001b[0m \u001b[1m5s\u001b[0m 2ms/step - accuracy: 0.6159 - loss: 0.8075 - val_accuracy: 0.6447 - val_loss: 0.6552\n",
            "Epoch 4/10\n",
            "\u001b[1m1594/1594\u001b[0m \u001b[32m━━━━━━━━━━━━━━━━━━━━\u001b[0m\u001b[37m\u001b[0m \u001b[1m6s\u001b[0m 3ms/step - accuracy: 0.6201 - loss: 0.7594 - val_accuracy: 0.6018 - val_loss: 0.7720\n",
            "Epoch 5/10\n",
            "\u001b[1m1594/1594\u001b[0m \u001b[32m━━━━━━━━━━━━━━━━━━━━\u001b[0m\u001b[37m\u001b[0m \u001b[1m4s\u001b[0m 2ms/step - accuracy: 0.6325 - loss: 0.7160 - val_accuracy: 0.6599 - val_loss: 0.6359\n",
            "Epoch 6/10\n",
            "\u001b[1m1594/1594\u001b[0m \u001b[32m━━━━━━━━━━━━━━━━━━━━\u001b[0m\u001b[37m\u001b[0m \u001b[1m5s\u001b[0m 2ms/step - accuracy: 0.6300 - loss: 0.7121 - val_accuracy: 0.6266 - val_loss: 0.7185\n",
            "Epoch 7/10\n",
            "\u001b[1m1594/1594\u001b[0m \u001b[32m━━━━━━━━━━━━━━━━━━━━\u001b[0m\u001b[37m\u001b[0m \u001b[1m4s\u001b[0m 3ms/step - accuracy: 0.6261 - loss: 0.7127 - val_accuracy: 0.6447 - val_loss: 0.6441\n",
            "Epoch 8/10\n",
            "\u001b[1m1594/1594\u001b[0m \u001b[32m━━━━━━━━━━━━━━━━━━━━\u001b[0m\u001b[37m\u001b[0m \u001b[1m4s\u001b[0m 2ms/step - accuracy: 0.6335 - loss: 0.6870 - val_accuracy: 0.6541 - val_loss: 0.6342\n",
            "Epoch 9/10\n",
            "\u001b[1m1594/1594\u001b[0m \u001b[32m━━━━━━━━━━━━━━━━━━━━\u001b[0m\u001b[37m\u001b[0m \u001b[1m5s\u001b[0m 2ms/step - accuracy: 0.6271 - loss: 0.6743 - val_accuracy: 0.6461 - val_loss: 0.6353\n",
            "Epoch 10/10\n",
            "\u001b[1m1594/1594\u001b[0m \u001b[32m━━━━━━━━━━━━━━━━━━━━\u001b[0m\u001b[37m\u001b[0m \u001b[1m7s\u001b[0m 4ms/step - accuracy: 0.6360 - loss: 0.6644 - val_accuracy: 0.6365 - val_loss: 0.6453\n"
          ]
        },
        {
          "data": {
            "text/plain": [
              "<keras.src.callbacks.history.History at 0x79d42862a830>"
            ]
          },
          "execution_count": 18,
          "metadata": {},
          "output_type": "execute_result"
        }
      ],
      "source": [
        "model_2 = Sequential()\n",
        "model_2.add(Dense(64, input_dim=X_train.shape[1], activation='relu', kernel_regularizer=l2(0.001)))\n",
        "model_2.add(Dense(32, activation='relu'))\n",
        "model_2.add(Dense(1, activation='sigmoid'))\n",
        "\n",
        "model_2.compile(loss='binary_crossentropy', optimizer='adam', metrics=['accuracy'])\n",
        "model_2.fit(X_train, y_train, epochs=10, batch_size=32, validation_data=(X_test, y_test))"
      ]
    },
    {
      "cell_type": "code",
      "execution_count": 19,
      "metadata": {
        "colab": {
          "base_uri": "https://localhost:8080/"
        },
        "id": "Ec_rp9sV_KjD",
        "outputId": "002a04bc-8ccb-4f19-9e62-94da23bad72b"
      },
      "outputs": [
        {
          "name": "stdout",
          "output_type": "stream",
          "text": [
            "\u001b[1m399/399\u001b[0m \u001b[32m━━━━━━━━━━━━━━━━━━━━\u001b[0m\u001b[37m\u001b[0m \u001b[1m1s\u001b[0m 1ms/step - accuracy: 0.6335 - loss: 0.6498\n",
            "Accuracy: 63.65\n",
            "\u001b[1m399/399\u001b[0m \u001b[32m━━━━━━━━━━━━━━━━━━━━\u001b[0m\u001b[37m\u001b[0m \u001b[1m1s\u001b[0m 1ms/step\n",
            "              precision    recall  f1-score   support\n",
            "\n",
            "           0       0.59      0.88      0.71      6343\n",
            "           1       0.77      0.39      0.52      6408\n",
            "\n",
            "    accuracy                           0.64     12751\n",
            "   macro avg       0.68      0.64      0.61     12751\n",
            "weighted avg       0.68      0.64      0.61     12751\n",
            "\n"
          ]
        }
      ],
      "source": [
        "_, accuracy = model_2.evaluate(X_test, y_test)\n",
        "print('Accuracy: %.2f' % (accuracy*100))\n",
        "\n",
        "y_pred = model_2.predict(X_test)\n",
        "y_pred = (y_pred > 0.5)\n",
        "\n",
        "print(classification_report(y_test, y_pred))"
      ]
    },
    {
      "cell_type": "code",
      "execution_count": 22,
      "metadata": {
        "colab": {
          "base_uri": "https://localhost:8080/"
        },
        "id": "gVDHPFGN_aSm",
        "outputId": "2d9de6f7-bc8a-4888-9ff8-db95dff92509"
      },
      "outputs": [
        {
          "name": "stdout",
          "output_type": "stream",
          "text": [
            "Epoch 1/10\n",
            "\u001b[1m1594/1594\u001b[0m \u001b[32m━━━━━━━━━━━━━━━━━━━━\u001b[0m\u001b[37m\u001b[0m \u001b[1m8s\u001b[0m 4ms/step - accuracy: 0.5194 - loss: 10.0115 - val_accuracy: 0.6037 - val_loss: 0.7147\n",
            "Epoch 2/10\n",
            "\u001b[1m1594/1594\u001b[0m \u001b[32m━━━━━━━━━━━━━━━━━━━━\u001b[0m\u001b[37m\u001b[0m \u001b[1m6s\u001b[0m 4ms/step - accuracy: 0.6056 - loss: 0.7094 - val_accuracy: 0.5864 - val_loss: 0.7583\n",
            "Epoch 3/10\n",
            "\u001b[1m1594/1594\u001b[0m \u001b[32m━━━━━━━━━━━━━━━━━━━━\u001b[0m\u001b[37m\u001b[0m \u001b[1m7s\u001b[0m 2ms/step - accuracy: 0.6332 - loss: 0.6555 - val_accuracy: 0.6436 - val_loss: 0.6326\n",
            "Epoch 4/10\n",
            "\u001b[1m1594/1594\u001b[0m \u001b[32m━━━━━━━━━━━━━━━━━━━━\u001b[0m\u001b[37m\u001b[0m \u001b[1m6s\u001b[0m 2ms/step - accuracy: 0.6357 - loss: 0.6501 - val_accuracy: 0.6393 - val_loss: 0.6402\n",
            "Epoch 5/10\n",
            "\u001b[1m1594/1594\u001b[0m \u001b[32m━━━━━━━━━━━━━━━━━━━━\u001b[0m\u001b[37m\u001b[0m \u001b[1m3s\u001b[0m 2ms/step - accuracy: 0.6478 - loss: 0.6377 - val_accuracy: 0.6385 - val_loss: 0.6495\n",
            "Epoch 6/10\n",
            "\u001b[1m1594/1594\u001b[0m \u001b[32m━━━━━━━━━━━━━━━━━━━━\u001b[0m\u001b[37m\u001b[0m \u001b[1m5s\u001b[0m 2ms/step - accuracy: 0.6494 - loss: 0.6351 - val_accuracy: 0.6613 - val_loss: 0.6099\n",
            "Epoch 7/10\n",
            "\u001b[1m1594/1594\u001b[0m \u001b[32m━━━━━━━━━━━━━━━━━━━━\u001b[0m\u001b[37m\u001b[0m \u001b[1m5s\u001b[0m 2ms/step - accuracy: 0.6491 - loss: 0.6293 - val_accuracy: 0.6269 - val_loss: 0.6821\n",
            "Epoch 8/10\n",
            "\u001b[1m1594/1594\u001b[0m \u001b[32m━━━━━━━━━━━━━━━━━━━━\u001b[0m\u001b[37m\u001b[0m \u001b[1m5s\u001b[0m 2ms/step - accuracy: 0.6533 - loss: 0.6264 - val_accuracy: 0.6650 - val_loss: 0.6105\n",
            "Epoch 9/10\n",
            "\u001b[1m1594/1594\u001b[0m \u001b[32m━━━━━━━━━━━━━━━━━━━━\u001b[0m\u001b[37m\u001b[0m \u001b[1m3s\u001b[0m 2ms/step - accuracy: 0.6562 - loss: 0.6247 - val_accuracy: 0.6584 - val_loss: 0.6123\n",
            "Epoch 10/10\n",
            "\u001b[1m1594/1594\u001b[0m \u001b[32m━━━━━━━━━━━━━━━━━━━━\u001b[0m\u001b[37m\u001b[0m \u001b[1m5s\u001b[0m 2ms/step - accuracy: 0.6538 - loss: 0.6268 - val_accuracy: 0.6731 - val_loss: 0.5955\n"
          ]
        },
        {
          "data": {
            "text/plain": [
              "<keras.src.callbacks.history.History at 0x79d428471bd0>"
            ]
          },
          "execution_count": 22,
          "metadata": {},
          "output_type": "execute_result"
        }
      ],
      "source": [
        "model_3 = Sequential()\n",
        "model_3.add(Dense(64, input_dim=X_train.shape[1], activation='relu'))\n",
        "model_3.add(Dense(32, activation='relu'))\n",
        "model_3.add(Dense(1, activation='sigmoid'))\n",
        "\n",
        "model_3.compile(loss='binary_crossentropy', optimizer=Adam(learning_rate=0.0001), metrics=['accuracy'])\n",
        "model_3.fit(X_train, y_train, epochs=10, batch_size=32, validation_data=(X_test, y_test))"
      ]
    },
    {
      "cell_type": "code",
      "execution_count": 23,
      "metadata": {
        "colab": {
          "base_uri": "https://localhost:8080/"
        },
        "id": "b9-f5WEM_kf0",
        "outputId": "780d65aa-d477-4bbb-ed2e-818543e4c001"
      },
      "outputs": [
        {
          "name": "stdout",
          "output_type": "stream",
          "text": [
            "\u001b[1m399/399\u001b[0m \u001b[32m━━━━━━━━━━━━━━━━━━━━\u001b[0m\u001b[37m\u001b[0m \u001b[1m1s\u001b[0m 1ms/step - accuracy: 0.6667 - loss: 0.5986\n",
            "Accuracy: 67.31\n",
            "\u001b[1m399/399\u001b[0m \u001b[32m━━━━━━━━━━━━━━━━━━━━\u001b[0m\u001b[37m\u001b[0m \u001b[1m1s\u001b[0m 1ms/step\n",
            "              precision    recall  f1-score   support\n",
            "\n",
            "           0       0.67      0.68      0.67      6343\n",
            "           1       0.68      0.67      0.67      6408\n",
            "\n",
            "    accuracy                           0.67     12751\n",
            "   macro avg       0.67      0.67      0.67     12751\n",
            "weighted avg       0.67      0.67      0.67     12751\n",
            "\n"
          ]
        }
      ],
      "source": [
        "_, accuracy = model_3.evaluate(X_test, y_test)\n",
        "print('Accuracy: %.2f' % (accuracy*100))\n",
        "\n",
        "y_pred = model_3.predict(X_test)\n",
        "y_pred = (y_pred > 0.5)\n",
        "\n",
        "print(classification_report(y_test, y_pred))"
      ]
    },
    {
      "cell_type": "markdown",
      "metadata": {},
      "source": [
        "## Hyperparameter Tuning\n",
        "This section performs a grid search to find the best hyperparameters for our neural network model."
      ]
    },
    {
      "cell_type": "code",
      "execution_count": 39,
      "metadata": {
        "colab": {
          "base_uri": "https://localhost:8080/"
        },
        "id": "B7XmB0OA_53W",
        "outputId": "0794d980-1834-42dd-d0ff-22d5250671f7"
      },
      "outputs": [
        {
          "name": "stdout",
          "output_type": "stream",
          "text": [
            "Total combinations: 72\n",
            "Testing combination: {'neurons': 32, 'learning_rate': 0.001, 'batch_size': 32, 'epochs': 10, 'optimizer': 'adam'}\n",
            "New best accuracy: 0.6654\n",
            "Testing combination: {'neurons': 32, 'learning_rate': 0.001, 'batch_size': 32, 'epochs': 10, 'optimizer': 'sgd'}\n",
            "Testing combination: {'neurons': 32, 'learning_rate': 0.001, 'batch_size': 32, 'epochs': 15, 'optimizer': 'adam'}\n",
            "Testing combination: {'neurons': 32, 'learning_rate': 0.001, 'batch_size': 32, 'epochs': 15, 'optimizer': 'sgd'}\n",
            "Testing combination: {'neurons': 32, 'learning_rate': 0.001, 'batch_size': 32, 'epochs': 20, 'optimizer': 'adam'}\n",
            "New best accuracy: 0.6922\n",
            "Testing combination: {'neurons': 32, 'learning_rate': 0.001, 'batch_size': 32, 'epochs': 20, 'optimizer': 'sgd'}\n",
            "Testing combination: {'neurons': 32, 'learning_rate': 0.001, 'batch_size': 64, 'epochs': 10, 'optimizer': 'adam'}\n",
            "Testing combination: {'neurons': 32, 'learning_rate': 0.001, 'batch_size': 64, 'epochs': 10, 'optimizer': 'sgd'}\n",
            "Testing combination: {'neurons': 32, 'learning_rate': 0.001, 'batch_size': 64, 'epochs': 15, 'optimizer': 'adam'}\n",
            "Testing combination: {'neurons': 32, 'learning_rate': 0.001, 'batch_size': 64, 'epochs': 15, 'optimizer': 'sgd'}\n",
            "Testing combination: {'neurons': 32, 'learning_rate': 0.001, 'batch_size': 64, 'epochs': 20, 'optimizer': 'adam'}\n",
            "Testing combination: {'neurons': 32, 'learning_rate': 0.001, 'batch_size': 64, 'epochs': 20, 'optimizer': 'sgd'}\n",
            "Testing combination: {'neurons': 32, 'learning_rate': 0.01, 'batch_size': 32, 'epochs': 10, 'optimizer': 'adam'}\n",
            "Testing combination: {'neurons': 32, 'learning_rate': 0.01, 'batch_size': 32, 'epochs': 10, 'optimizer': 'sgd'}\n",
            "Testing combination: {'neurons': 32, 'learning_rate': 0.01, 'batch_size': 32, 'epochs': 15, 'optimizer': 'adam'}\n",
            "Testing combination: {'neurons': 32, 'learning_rate': 0.01, 'batch_size': 32, 'epochs': 15, 'optimizer': 'sgd'}\n",
            "Testing combination: {'neurons': 32, 'learning_rate': 0.01, 'batch_size': 32, 'epochs': 20, 'optimizer': 'adam'}\n",
            "Testing combination: {'neurons': 32, 'learning_rate': 0.01, 'batch_size': 32, 'epochs': 20, 'optimizer': 'sgd'}\n",
            "Testing combination: {'neurons': 32, 'learning_rate': 0.01, 'batch_size': 64, 'epochs': 10, 'optimizer': 'adam'}\n",
            "Testing combination: {'neurons': 32, 'learning_rate': 0.01, 'batch_size': 64, 'epochs': 10, 'optimizer': 'sgd'}\n",
            "Testing combination: {'neurons': 32, 'learning_rate': 0.01, 'batch_size': 64, 'epochs': 15, 'optimizer': 'adam'}\n",
            "Testing combination: {'neurons': 32, 'learning_rate': 0.01, 'batch_size': 64, 'epochs': 15, 'optimizer': 'sgd'}\n",
            "Testing combination: {'neurons': 32, 'learning_rate': 0.01, 'batch_size': 64, 'epochs': 20, 'optimizer': 'adam'}\n",
            "Testing combination: {'neurons': 32, 'learning_rate': 0.01, 'batch_size': 64, 'epochs': 20, 'optimizer': 'sgd'}\n",
            "Testing combination: {'neurons': 32, 'learning_rate': 0.1, 'batch_size': 32, 'epochs': 10, 'optimizer': 'adam'}\n",
            "Testing combination: {'neurons': 32, 'learning_rate': 0.1, 'batch_size': 32, 'epochs': 10, 'optimizer': 'sgd'}\n",
            "Testing combination: {'neurons': 32, 'learning_rate': 0.1, 'batch_size': 32, 'epochs': 15, 'optimizer': 'adam'}\n",
            "Testing combination: {'neurons': 32, 'learning_rate': 0.1, 'batch_size': 32, 'epochs': 15, 'optimizer': 'sgd'}\n",
            "Testing combination: {'neurons': 32, 'learning_rate': 0.1, 'batch_size': 32, 'epochs': 20, 'optimizer': 'adam'}\n",
            "Testing combination: {'neurons': 32, 'learning_rate': 0.1, 'batch_size': 32, 'epochs': 20, 'optimizer': 'sgd'}\n",
            "Testing combination: {'neurons': 32, 'learning_rate': 0.1, 'batch_size': 64, 'epochs': 10, 'optimizer': 'adam'}\n",
            "Testing combination: {'neurons': 32, 'learning_rate': 0.1, 'batch_size': 64, 'epochs': 10, 'optimizer': 'sgd'}\n",
            "Testing combination: {'neurons': 32, 'learning_rate': 0.1, 'batch_size': 64, 'epochs': 15, 'optimizer': 'adam'}\n",
            "Testing combination: {'neurons': 32, 'learning_rate': 0.1, 'batch_size': 64, 'epochs': 15, 'optimizer': 'sgd'}\n",
            "Testing combination: {'neurons': 32, 'learning_rate': 0.1, 'batch_size': 64, 'epochs': 20, 'optimizer': 'adam'}\n",
            "Testing combination: {'neurons': 32, 'learning_rate': 0.1, 'batch_size': 64, 'epochs': 20, 'optimizer': 'sgd'}\n",
            "Testing combination: {'neurons': 64, 'learning_rate': 0.001, 'batch_size': 32, 'epochs': 10, 'optimizer': 'adam'}\n",
            "Testing combination: {'neurons': 64, 'learning_rate': 0.001, 'batch_size': 32, 'epochs': 10, 'optimizer': 'sgd'}\n",
            "Testing combination: {'neurons': 64, 'learning_rate': 0.001, 'batch_size': 32, 'epochs': 15, 'optimizer': 'adam'}\n",
            "Testing combination: {'neurons': 64, 'learning_rate': 0.001, 'batch_size': 32, 'epochs': 15, 'optimizer': 'sgd'}\n",
            "Testing combination: {'neurons': 64, 'learning_rate': 0.001, 'batch_size': 32, 'epochs': 20, 'optimizer': 'adam'}\n",
            "Testing combination: {'neurons': 64, 'learning_rate': 0.001, 'batch_size': 32, 'epochs': 20, 'optimizer': 'sgd'}\n",
            "Testing combination: {'neurons': 64, 'learning_rate': 0.001, 'batch_size': 64, 'epochs': 10, 'optimizer': 'adam'}\n",
            "Testing combination: {'neurons': 64, 'learning_rate': 0.001, 'batch_size': 64, 'epochs': 10, 'optimizer': 'sgd'}\n",
            "Testing combination: {'neurons': 64, 'learning_rate': 0.001, 'batch_size': 64, 'epochs': 15, 'optimizer': 'adam'}\n",
            "Testing combination: {'neurons': 64, 'learning_rate': 0.001, 'batch_size': 64, 'epochs': 15, 'optimizer': 'sgd'}\n",
            "Testing combination: {'neurons': 64, 'learning_rate': 0.001, 'batch_size': 64, 'epochs': 20, 'optimizer': 'adam'}\n",
            "Testing combination: {'neurons': 64, 'learning_rate': 0.001, 'batch_size': 64, 'epochs': 20, 'optimizer': 'sgd'}\n",
            "Testing combination: {'neurons': 64, 'learning_rate': 0.01, 'batch_size': 32, 'epochs': 10, 'optimizer': 'adam'}\n",
            "Testing combination: {'neurons': 64, 'learning_rate': 0.01, 'batch_size': 32, 'epochs': 10, 'optimizer': 'sgd'}\n",
            "Testing combination: {'neurons': 64, 'learning_rate': 0.01, 'batch_size': 32, 'epochs': 15, 'optimizer': 'adam'}\n",
            "Testing combination: {'neurons': 64, 'learning_rate': 0.01, 'batch_size': 32, 'epochs': 15, 'optimizer': 'sgd'}\n",
            "Testing combination: {'neurons': 64, 'learning_rate': 0.01, 'batch_size': 32, 'epochs': 20, 'optimizer': 'adam'}\n",
            "Testing combination: {'neurons': 64, 'learning_rate': 0.01, 'batch_size': 32, 'epochs': 20, 'optimizer': 'sgd'}\n",
            "Testing combination: {'neurons': 64, 'learning_rate': 0.01, 'batch_size': 64, 'epochs': 10, 'optimizer': 'adam'}\n",
            "Testing combination: {'neurons': 64, 'learning_rate': 0.01, 'batch_size': 64, 'epochs': 10, 'optimizer': 'sgd'}\n",
            "Testing combination: {'neurons': 64, 'learning_rate': 0.01, 'batch_size': 64, 'epochs': 15, 'optimizer': 'adam'}\n",
            "Testing combination: {'neurons': 64, 'learning_rate': 0.01, 'batch_size': 64, 'epochs': 15, 'optimizer': 'sgd'}\n",
            "Testing combination: {'neurons': 64, 'learning_rate': 0.01, 'batch_size': 64, 'epochs': 20, 'optimizer': 'adam'}\n",
            "Testing combination: {'neurons': 64, 'learning_rate': 0.01, 'batch_size': 64, 'epochs': 20, 'optimizer': 'sgd'}\n",
            "Testing combination: {'neurons': 64, 'learning_rate': 0.1, 'batch_size': 32, 'epochs': 10, 'optimizer': 'adam'}\n",
            "Testing combination: {'neurons': 64, 'learning_rate': 0.1, 'batch_size': 32, 'epochs': 10, 'optimizer': 'sgd'}\n",
            "Testing combination: {'neurons': 64, 'learning_rate': 0.1, 'batch_size': 32, 'epochs': 15, 'optimizer': 'adam'}\n",
            "Testing combination: {'neurons': 64, 'learning_rate': 0.1, 'batch_size': 32, 'epochs': 15, 'optimizer': 'sgd'}\n",
            "Testing combination: {'neurons': 64, 'learning_rate': 0.1, 'batch_size': 32, 'epochs': 20, 'optimizer': 'adam'}\n",
            "Testing combination: {'neurons': 64, 'learning_rate': 0.1, 'batch_size': 32, 'epochs': 20, 'optimizer': 'sgd'}\n",
            "Testing combination: {'neurons': 64, 'learning_rate': 0.1, 'batch_size': 64, 'epochs': 10, 'optimizer': 'adam'}\n",
            "Testing combination: {'neurons': 64, 'learning_rate': 0.1, 'batch_size': 64, 'epochs': 10, 'optimizer': 'sgd'}\n",
            "Testing combination: {'neurons': 64, 'learning_rate': 0.1, 'batch_size': 64, 'epochs': 15, 'optimizer': 'adam'}\n",
            "Testing combination: {'neurons': 64, 'learning_rate': 0.1, 'batch_size': 64, 'epochs': 15, 'optimizer': 'sgd'}\n",
            "Testing combination: {'neurons': 64, 'learning_rate': 0.1, 'batch_size': 64, 'epochs': 20, 'optimizer': 'adam'}\n",
            "Testing combination: {'neurons': 64, 'learning_rate': 0.1, 'batch_size': 64, 'epochs': 20, 'optimizer': 'sgd'}\n",
            "Best Accuracy: 0.6922\n",
            "Best Params: {'neurons': 32, 'learning_rate': 0.001, 'batch_size': 32, 'epochs': 20, 'optimizer': 'adam'}\n"
          ]
        }
      ],
      "source": [
        "GRID_SEARCH_PARAMS = {\n",
        "    'neurons': [32, 64],\n",
        "    'learning_rate': [0.001, 0.01, 0.1],\n",
        "    'batch_size': [32, 64],\n",
        "    'epochs': [10, 15, 20],\n",
        "    'optimizer': ['adam', 'sgd'],\n",
        "}\n",
        "\n",
        "def create_model(neurons, learning_rate, optimizer):\n",
        "    model = Sequential()\n",
        "    model.add(Dense(neurons, input_dim=X_train.shape[1], activation='relu'))\n",
        "    model.add(Dense(neurons, activation='relu'))\n",
        "    model.add(Dense(1, activation='sigmoid'))\n",
        "\n",
        "    if optimizer == 'adam':\n",
        "        opt = Adam(learning_rate=learning_rate)\n",
        "    else:\n",
        "        opt = SGD(learning_rate=learning_rate)\n",
        "\n",
        "    model.compile(loss='binary_crossentropy', optimizer=opt, metrics=['accuracy'])\n",
        "    return model\n",
        "\n",
        "best_accuracy = 0\n",
        "best_params = {}\n",
        "\n",
        "keys, values = zip(*GRID_SEARCH_PARAMS.items())\n",
        "combinations = [dict(zip(keys, v)) for v in itertools.product(*values)]\n",
        "\n",
        "print(f\"Total combinations: {len(combinations)}\")\n",
        "\n",
        "for params in combinations:\n",
        "    print(f\"Testing combination: {params}\")\n",
        "\n",
        "    model = create_model(\n",
        "        neurons=params['neurons'],\n",
        "        learning_rate=params['learning_rate'],\n",
        "        optimizer=params['optimizer']\n",
        "    )\n",
        "\n",
        "    model.fit(X_train, y_train, epochs=params['epochs'], batch_size=params['batch_size'], verbose=0)\n",
        "\n",
        "    _, accuracy = model.evaluate(X_test, y_test, verbose=0)\n",
        "\n",
        "    if accuracy > best_accuracy:\n",
        "        best_accuracy = accuracy\n",
        "        best_params = params\n",
        "        print(f\"New best accuracy: {best_accuracy:.4f}\")\n",
        "\n",
        "print(f\"Best Accuracy: {best_accuracy:.4f}\")\n",
        "print(f\"Best Params: {best_params}\")\n"
      ]
    },
    {
      "cell_type": "markdown",
      "metadata": {},
      "source": [
        "## Training the Best Model\n",
        "We create and train a model using the best hyperparameters found during the grid search"
      ]
    },
    {
      "cell_type": "code",
      "execution_count": 40,
      "metadata": {
        "colab": {
          "base_uri": "https://localhost:8080/"
        },
        "id": "ZT9JJJaaSB0q",
        "outputId": "a1002e97-8aac-430c-94a6-b9e6bb35ee39"
      },
      "outputs": [
        {
          "data": {
            "text/plain": [
              "0.6921809911727905"
            ]
          },
          "execution_count": 40,
          "metadata": {},
          "output_type": "execute_result"
        }
      ],
      "source": [
        "best_accuracy"
      ]
    },
    {
      "cell_type": "code",
      "execution_count": 41,
      "metadata": {
        "colab": {
          "base_uri": "https://localhost:8080/"
        },
        "id": "QeAjzTGZR_F_",
        "outputId": "2dd78e44-9aaa-4be0-c1aa-8a3caf4e2109"
      },
      "outputs": [
        {
          "data": {
            "text/plain": [
              "{'neurons': 32,\n",
              " 'learning_rate': 0.001,\n",
              " 'batch_size': 32,\n",
              " 'epochs': 20,\n",
              " 'optimizer': 'adam'}"
            ]
          },
          "execution_count": 41,
          "metadata": {},
          "output_type": "execute_result"
        }
      ],
      "source": [
        "best_params"
      ]
    },
    {
      "cell_type": "code",
      "execution_count": 43,
      "metadata": {
        "colab": {
          "base_uri": "https://localhost:8080/"
        },
        "id": "z6xj1eehlx-c",
        "outputId": "d0976a70-c966-4905-9b1d-c11c5ab5eb82"
      },
      "outputs": [
        {
          "name": "stdout",
          "output_type": "stream",
          "text": [
            "Epoch 1/20\n",
            "\u001b[1m1594/1594\u001b[0m \u001b[32m━━━━━━━━━━━━━━━━━━━━\u001b[0m\u001b[37m\u001b[0m \u001b[1m7s\u001b[0m 3ms/step - accuracy: 0.5615 - loss: 2.5859 - val_accuracy: 0.6277 - val_loss: 0.7609\n",
            "Epoch 2/20\n",
            "\u001b[1m1594/1594\u001b[0m \u001b[32m━━━━━━━━━━━━━━━━━━━━\u001b[0m\u001b[37m\u001b[0m \u001b[1m8s\u001b[0m 2ms/step - accuracy: 0.6188 - loss: 0.8492 - val_accuracy: 0.6226 - val_loss: 0.7316\n",
            "Epoch 3/20\n",
            "\u001b[1m1594/1594\u001b[0m \u001b[32m━━━━━━━━━━━━━━━━━━━━\u001b[0m\u001b[37m\u001b[0m \u001b[1m6s\u001b[0m 2ms/step - accuracy: 0.6267 - loss: 0.7923 - val_accuracy: 0.6393 - val_loss: 0.6774\n",
            "Epoch 4/20\n",
            "\u001b[1m1594/1594\u001b[0m \u001b[32m━━━━━━━━━━━━━━━━━━━━\u001b[0m\u001b[37m\u001b[0m \u001b[1m5s\u001b[0m 2ms/step - accuracy: 0.6295 - loss: 0.7836 - val_accuracy: 0.6604 - val_loss: 0.6286\n",
            "Epoch 5/20\n",
            "\u001b[1m1594/1594\u001b[0m \u001b[32m━━━━━━━━━━━━━━━━━━━━\u001b[0m\u001b[37m\u001b[0m \u001b[1m6s\u001b[0m 3ms/step - accuracy: 0.6356 - loss: 0.7387 - val_accuracy: 0.6570 - val_loss: 0.6369\n",
            "Epoch 6/20\n",
            "\u001b[1m1594/1594\u001b[0m \u001b[32m━━━━━━━━━━━━━━━━━━━━\u001b[0m\u001b[37m\u001b[0m \u001b[1m4s\u001b[0m 2ms/step - accuracy: 0.6270 - loss: 0.7423 - val_accuracy: 0.6298 - val_loss: 0.6727\n",
            "Epoch 7/20\n",
            "\u001b[1m1594/1594\u001b[0m \u001b[32m━━━━━━━━━━━━━━━━━━━━\u001b[0m\u001b[37m\u001b[0m \u001b[1m3s\u001b[0m 2ms/step - accuracy: 0.6385 - loss: 0.7110 - val_accuracy: 0.6519 - val_loss: 0.6202\n",
            "Epoch 8/20\n",
            "\u001b[1m1594/1594\u001b[0m \u001b[32m━━━━━━━━━━━━━━━━━━━━\u001b[0m\u001b[37m\u001b[0m \u001b[1m4s\u001b[0m 2ms/step - accuracy: 0.6312 - loss: 0.7034 - val_accuracy: 0.5712 - val_loss: 1.0483\n",
            "Epoch 9/20\n",
            "\u001b[1m1594/1594\u001b[0m \u001b[32m━━━━━━━━━━━━━━━━━━━━\u001b[0m\u001b[37m\u001b[0m \u001b[1m7s\u001b[0m 4ms/step - accuracy: 0.6421 - loss: 0.6813 - val_accuracy: 0.6215 - val_loss: 0.7033\n",
            "Epoch 10/20\n",
            "\u001b[1m1594/1594\u001b[0m \u001b[32m━━━━━━━━━━━━━━━━━━━━\u001b[0m\u001b[37m\u001b[0m \u001b[1m10s\u001b[0m 5ms/step - accuracy: 0.6436 - loss: 0.6596 - val_accuracy: 0.6542 - val_loss: 0.6246\n",
            "Epoch 11/20\n",
            "\u001b[1m1594/1594\u001b[0m \u001b[32m━━━━━━━━━━━━━━━━━━━━\u001b[0m\u001b[37m\u001b[0m \u001b[1m7s\u001b[0m 3ms/step - accuracy: 0.6454 - loss: 0.6559 - val_accuracy: 0.6031 - val_loss: 0.8116\n",
            "Epoch 12/20\n",
            "\u001b[1m1594/1594\u001b[0m \u001b[32m━━━━━━━━━━━━━━━━━━━━\u001b[0m\u001b[37m\u001b[0m \u001b[1m6s\u001b[0m 3ms/step - accuracy: 0.6432 - loss: 0.6561 - val_accuracy: 0.6660 - val_loss: 0.6064\n",
            "Epoch 13/20\n",
            "\u001b[1m1594/1594\u001b[0m \u001b[32m━━━━━━━━━━━━━━━━━━━━\u001b[0m\u001b[37m\u001b[0m \u001b[1m3s\u001b[0m 2ms/step - accuracy: 0.6476 - loss: 0.6463 - val_accuracy: 0.6629 - val_loss: 0.6133\n",
            "Epoch 14/20\n",
            "\u001b[1m1594/1594\u001b[0m \u001b[32m━━━━━━━━━━━━━━━━━━━━\u001b[0m\u001b[37m\u001b[0m \u001b[1m5s\u001b[0m 2ms/step - accuracy: 0.6540 - loss: 0.6311 - val_accuracy: 0.6839 - val_loss: 0.5872\n",
            "Epoch 15/20\n",
            "\u001b[1m1594/1594\u001b[0m \u001b[32m━━━━━━━━━━━━━━━━━━━━\u001b[0m\u001b[37m\u001b[0m \u001b[1m5s\u001b[0m 3ms/step - accuracy: 0.6499 - loss: 0.6307 - val_accuracy: 0.6517 - val_loss: 0.6248\n",
            "Epoch 16/20\n",
            "\u001b[1m1594/1594\u001b[0m \u001b[32m━━━━━━━━━━━━━━━━━━━━\u001b[0m\u001b[37m\u001b[0m \u001b[1m3s\u001b[0m 2ms/step - accuracy: 0.6533 - loss: 0.6258 - val_accuracy: 0.6734 - val_loss: 0.5970\n",
            "Epoch 17/20\n",
            "\u001b[1m1594/1594\u001b[0m \u001b[32m━━━━━━━━━━━━━━━━━━━━\u001b[0m\u001b[37m\u001b[0m \u001b[1m3s\u001b[0m 2ms/step - accuracy: 0.6544 - loss: 0.6209 - val_accuracy: 0.5932 - val_loss: 0.7248\n",
            "Epoch 18/20\n",
            "\u001b[1m1594/1594\u001b[0m \u001b[32m━━━━━━━━━━━━━━━━━━━━\u001b[0m\u001b[37m\u001b[0m \u001b[1m7s\u001b[0m 3ms/step - accuracy: 0.6628 - loss: 0.6075 - val_accuracy: 0.6590 - val_loss: 0.6122\n",
            "Epoch 19/20\n",
            "\u001b[1m1594/1594\u001b[0m \u001b[32m━━━━━━━━━━━━━━━━━━━━\u001b[0m\u001b[37m\u001b[0m \u001b[1m3s\u001b[0m 2ms/step - accuracy: 0.6662 - loss: 0.6031 - val_accuracy: 0.6237 - val_loss: 0.6514\n",
            "Epoch 20/20\n",
            "\u001b[1m1594/1594\u001b[0m \u001b[32m━━━━━━━━━━━━━━━━━━━━\u001b[0m\u001b[37m\u001b[0m \u001b[1m3s\u001b[0m 2ms/step - accuracy: 0.6644 - loss: 0.6048 - val_accuracy: 0.6811 - val_loss: 0.5852\n"
          ]
        },
        {
          "data": {
            "text/plain": [
              "<keras.src.callbacks.history.History at 0x79d37c56e500>"
            ]
          },
          "execution_count": 43,
          "metadata": {},
          "output_type": "execute_result"
        }
      ],
      "source": [
        "best_model = create_model(\n",
        "    neurons=best_params['neurons'],\n",
        "    learning_rate=best_params['learning_rate'],\n",
        "    optimizer=best_params['optimizer']\n",
        ")\n",
        "\n",
        "best_model.fit(X_train, y_train, epochs=best_params['epochs'], batch_size=best_params['batch_size'], validation_data=(X_test, y_test))"
      ]
    },
    {
      "cell_type": "code",
      "execution_count": 44,
      "metadata": {
        "colab": {
          "base_uri": "https://localhost:8080/"
        },
        "id": "-JfMRaRbmt9V",
        "outputId": "ee6ddd81-2867-4f18-ab72-956aff7f5b9a"
      },
      "outputs": [
        {
          "name": "stdout",
          "output_type": "stream",
          "text": [
            "\u001b[1m399/399\u001b[0m \u001b[32m━━━━━━━━━━━━━━━━━━━━\u001b[0m\u001b[37m\u001b[0m \u001b[1m1s\u001b[0m 2ms/step - accuracy: 0.6804 - loss: 0.5855\n",
            "Accuracy: 68.11\n",
            "\u001b[1m399/399\u001b[0m \u001b[32m━━━━━━━━━━━━━━━━━━━━\u001b[0m\u001b[37m\u001b[0m \u001b[1m1s\u001b[0m 3ms/step\n",
            "              precision    recall  f1-score   support\n",
            "\n",
            "           0       0.71      0.60      0.65      6343\n",
            "           1       0.66      0.76      0.71      6408\n",
            "\n",
            "    accuracy                           0.68     12751\n",
            "   macro avg       0.69      0.68      0.68     12751\n",
            "weighted avg       0.69      0.68      0.68     12751\n",
            "\n"
          ]
        }
      ],
      "source": [
        "_, accuracy = best_model.evaluate(X_test, y_test)\n",
        "print('Accuracy: %.2f' % (accuracy*100))\n",
        "\n",
        "y_pred = best_model.predict(X_test)\n",
        "y_pred = (y_pred > 0.5)\n",
        "\n",
        "print(classification_report(y_test, y_pred))"
      ]
    },
    {
      "cell_type": "markdown",
      "metadata": {},
      "source": [
        "## Extended Training and Final Evaluation\n",
        "Finally, we train the best model for an extended number of epochs and evaluate its performance on the test set."
      ]
    },
    {
      "cell_type": "code",
      "execution_count": 50,
      "metadata": {
        "colab": {
          "base_uri": "https://localhost:8080/"
        },
        "id": "7YGRnOLanBGb",
        "outputId": "98b7795b-4efe-46c8-e757-b2859660a5c1"
      },
      "outputs": [
        {
          "name": "stdout",
          "output_type": "stream",
          "text": [
            "Epoch 1/50\n",
            "\u001b[1m1594/1594\u001b[0m \u001b[32m━━━━━━━━━━━━━━━━━━━━\u001b[0m\u001b[37m\u001b[0m \u001b[1m6s\u001b[0m 4ms/step - accuracy: 0.6879 - loss: 0.5794 - val_accuracy: 0.6792 - val_loss: 0.5921\n",
            "Epoch 2/50\n",
            "\u001b[1m1594/1594\u001b[0m \u001b[32m━━━━━━━━━━━━━━━━━━━━\u001b[0m\u001b[37m\u001b[0m \u001b[1m3s\u001b[0m 2ms/step - accuracy: 0.6821 - loss: 0.5822 - val_accuracy: 0.6841 - val_loss: 0.5878\n",
            "Epoch 3/50\n",
            "\u001b[1m1594/1594\u001b[0m \u001b[32m━━━━━━━━━━━━━━━━━━━━\u001b[0m\u001b[37m\u001b[0m \u001b[1m3s\u001b[0m 2ms/step - accuracy: 0.6883 - loss: 0.5791 - val_accuracy: 0.6876 - val_loss: 0.5819\n",
            "Epoch 4/50\n",
            "\u001b[1m1594/1594\u001b[0m \u001b[32m━━━━━━━━━━━━━━━━━━━━\u001b[0m\u001b[37m\u001b[0m \u001b[1m4s\u001b[0m 3ms/step - accuracy: 0.6893 - loss: 0.5768 - val_accuracy: 0.6842 - val_loss: 0.5868\n",
            "Epoch 5/50\n",
            "\u001b[1m1594/1594\u001b[0m \u001b[32m━━━━━━━━━━━━━━━━━━━━\u001b[0m\u001b[37m\u001b[0m \u001b[1m4s\u001b[0m 2ms/step - accuracy: 0.6840 - loss: 0.5819 - val_accuracy: 0.6893 - val_loss: 0.5856\n",
            "Epoch 6/50\n",
            "\u001b[1m1594/1594\u001b[0m \u001b[32m━━━━━━━━━━━━━━━━━━━━\u001b[0m\u001b[37m\u001b[0m \u001b[1m3s\u001b[0m 2ms/step - accuracy: 0.6885 - loss: 0.5784 - val_accuracy: 0.6871 - val_loss: 0.5844\n",
            "Epoch 7/50\n",
            "\u001b[1m1594/1594\u001b[0m \u001b[32m━━━━━━━━━━━━━━━━━━━━\u001b[0m\u001b[37m\u001b[0m \u001b[1m6s\u001b[0m 3ms/step - accuracy: 0.6828 - loss: 0.5830 - val_accuracy: 0.6892 - val_loss: 0.5831\n",
            "Epoch 8/50\n",
            "\u001b[1m1594/1594\u001b[0m \u001b[32m━━━━━━━━━━━━━━━━━━━━\u001b[0m\u001b[37m\u001b[0m \u001b[1m3s\u001b[0m 2ms/step - accuracy: 0.6883 - loss: 0.5758 - val_accuracy: 0.6860 - val_loss: 0.5859\n",
            "Epoch 9/50\n",
            "\u001b[1m1594/1594\u001b[0m \u001b[32m━━━━━━━━━━━━━━━━━━━━\u001b[0m\u001b[37m\u001b[0m \u001b[1m5s\u001b[0m 2ms/step - accuracy: 0.6876 - loss: 0.5778 - val_accuracy: 0.6915 - val_loss: 0.5802\n",
            "Epoch 10/50\n",
            "\u001b[1m1594/1594\u001b[0m \u001b[32m━━━━━━━━━━━━━━━━━━━━\u001b[0m\u001b[37m\u001b[0m \u001b[1m6s\u001b[0m 2ms/step - accuracy: 0.6856 - loss: 0.5801 - val_accuracy: 0.6869 - val_loss: 0.5847\n",
            "Epoch 11/50\n",
            "\u001b[1m1594/1594\u001b[0m \u001b[32m━━━━━━━━━━━━━━━━━━━━\u001b[0m\u001b[37m\u001b[0m \u001b[1m5s\u001b[0m 2ms/step - accuracy: 0.6883 - loss: 0.5811 - val_accuracy: 0.6877 - val_loss: 0.5824\n",
            "Epoch 12/50\n",
            "\u001b[1m1594/1594\u001b[0m \u001b[32m━━━━━━━━━━━━━━━━━━━━\u001b[0m\u001b[37m\u001b[0m \u001b[1m3s\u001b[0m 2ms/step - accuracy: 0.6892 - loss: 0.5776 - val_accuracy: 0.6905 - val_loss: 0.5860\n",
            "Epoch 13/50\n",
            "\u001b[1m1594/1594\u001b[0m \u001b[32m━━━━━━━━━━━━━━━━━━━━\u001b[0m\u001b[37m\u001b[0m \u001b[1m5s\u001b[0m 2ms/step - accuracy: 0.6864 - loss: 0.5813 - val_accuracy: 0.6843 - val_loss: 0.5886\n",
            "Epoch 14/50\n",
            "\u001b[1m1594/1594\u001b[0m \u001b[32m━━━━━━━━━━━━━━━━━━━━\u001b[0m\u001b[37m\u001b[0m \u001b[1m3s\u001b[0m 2ms/step - accuracy: 0.6879 - loss: 0.5774 - val_accuracy: 0.6849 - val_loss: 0.5878\n",
            "Epoch 15/50\n",
            "\u001b[1m1594/1594\u001b[0m \u001b[32m━━━━━━━━━━━━━━━━━━━━\u001b[0m\u001b[37m\u001b[0m \u001b[1m6s\u001b[0m 3ms/step - accuracy: 0.6846 - loss: 0.5812 - val_accuracy: 0.6850 - val_loss: 0.5893\n",
            "Epoch 16/50\n",
            "\u001b[1m1594/1594\u001b[0m \u001b[32m━━━━━━━━━━━━━━━━━━━━\u001b[0m\u001b[37m\u001b[0m \u001b[1m4s\u001b[0m 2ms/step - accuracy: 0.6927 - loss: 0.5773 - val_accuracy: 0.6916 - val_loss: 0.5837\n",
            "Epoch 17/50\n",
            "\u001b[1m1594/1594\u001b[0m \u001b[32m━━━━━━━━━━━━━━━━━━━━\u001b[0m\u001b[37m\u001b[0m \u001b[1m3s\u001b[0m 2ms/step - accuracy: 0.6862 - loss: 0.5794 - val_accuracy: 0.6769 - val_loss: 0.5896\n",
            "Epoch 18/50\n",
            "\u001b[1m1594/1594\u001b[0m \u001b[32m━━━━━━━━━━━━━━━━━━━━\u001b[0m\u001b[37m\u001b[0m \u001b[1m4s\u001b[0m 2ms/step - accuracy: 0.6860 - loss: 0.5796 - val_accuracy: 0.6867 - val_loss: 0.5862\n",
            "Epoch 19/50\n",
            "\u001b[1m1594/1594\u001b[0m \u001b[32m━━━━━━━━━━━━━━━━━━━━\u001b[0m\u001b[37m\u001b[0m \u001b[1m5s\u001b[0m 2ms/step - accuracy: 0.6870 - loss: 0.5799 - val_accuracy: 0.6887 - val_loss: 0.5856\n",
            "Epoch 20/50\n",
            "\u001b[1m1594/1594\u001b[0m \u001b[32m━━━━━━━━━━━━━━━━━━━━\u001b[0m\u001b[37m\u001b[0m \u001b[1m3s\u001b[0m 2ms/step - accuracy: 0.6860 - loss: 0.5789 - val_accuracy: 0.6895 - val_loss: 0.5836\n",
            "Epoch 21/50\n",
            "\u001b[1m1594/1594\u001b[0m \u001b[32m━━━━━━━━━━━━━━━━━━━━\u001b[0m\u001b[37m\u001b[0m \u001b[1m6s\u001b[0m 3ms/step - accuracy: 0.6860 - loss: 0.5817 - val_accuracy: 0.6927 - val_loss: 0.5838\n",
            "Epoch 22/50\n",
            "\u001b[1m1594/1594\u001b[0m \u001b[32m━━━━━━━━━━━━━━━━━━━━\u001b[0m\u001b[37m\u001b[0m \u001b[1m3s\u001b[0m 2ms/step - accuracy: 0.6862 - loss: 0.5823 - val_accuracy: 0.6854 - val_loss: 0.5854\n",
            "Epoch 23/50\n",
            "\u001b[1m1594/1594\u001b[0m \u001b[32m━━━━━━━━━━━━━━━━━━━━\u001b[0m\u001b[37m\u001b[0m \u001b[1m3s\u001b[0m 2ms/step - accuracy: 0.6879 - loss: 0.5780 - val_accuracy: 0.6903 - val_loss: 0.5826\n",
            "Epoch 24/50\n",
            "\u001b[1m1594/1594\u001b[0m \u001b[32m━━━━━━━━━━━━━━━━━━━━\u001b[0m\u001b[37m\u001b[0m \u001b[1m4s\u001b[0m 3ms/step - accuracy: 0.6891 - loss: 0.5759 - val_accuracy: 0.6879 - val_loss: 0.5841\n",
            "Epoch 25/50\n",
            "\u001b[1m1594/1594\u001b[0m \u001b[32m━━━━━━━━━━━━━━━━━━━━\u001b[0m\u001b[37m\u001b[0m \u001b[1m4s\u001b[0m 2ms/step - accuracy: 0.6839 - loss: 0.5808 - val_accuracy: 0.6847 - val_loss: 0.5862\n",
            "Epoch 26/50\n",
            "\u001b[1m1594/1594\u001b[0m \u001b[32m━━━━━━━━━━━━━━━━━━━━\u001b[0m\u001b[37m\u001b[0m \u001b[1m5s\u001b[0m 2ms/step - accuracy: 0.6864 - loss: 0.5798 - val_accuracy: 0.6870 - val_loss: 0.5877\n",
            "Epoch 27/50\n",
            "\u001b[1m1594/1594\u001b[0m \u001b[32m━━━━━━━━━━━━━━━━━━━━\u001b[0m\u001b[37m\u001b[0m \u001b[1m3s\u001b[0m 2ms/step - accuracy: 0.6890 - loss: 0.5785 - val_accuracy: 0.6883 - val_loss: 0.5912\n",
            "Epoch 28/50\n",
            "\u001b[1m1594/1594\u001b[0m \u001b[32m━━━━━━━━━━━━━━━━━━━━\u001b[0m\u001b[37m\u001b[0m \u001b[1m5s\u001b[0m 2ms/step - accuracy: 0.6881 - loss: 0.5778 - val_accuracy: 0.6847 - val_loss: 0.5864\n",
            "Epoch 29/50\n",
            "\u001b[1m1594/1594\u001b[0m \u001b[32m━━━━━━━━━━━━━━━━━━━━\u001b[0m\u001b[37m\u001b[0m \u001b[1m5s\u001b[0m 2ms/step - accuracy: 0.6868 - loss: 0.5765 - val_accuracy: 0.6909 - val_loss: 0.5838\n",
            "Epoch 30/50\n",
            "\u001b[1m1594/1594\u001b[0m \u001b[32m━━━━━━━━━━━━━━━━━━━━\u001b[0m\u001b[37m\u001b[0m \u001b[1m6s\u001b[0m 3ms/step - accuracy: 0.6873 - loss: 0.5793 - val_accuracy: 0.6890 - val_loss: 0.5826\n",
            "Epoch 31/50\n",
            "\u001b[1m1594/1594\u001b[0m \u001b[32m━━━━━━━━━━━━━━━━━━━━\u001b[0m\u001b[37m\u001b[0m \u001b[1m4s\u001b[0m 2ms/step - accuracy: 0.6891 - loss: 0.5794 - val_accuracy: 0.6880 - val_loss: 0.5821\n",
            "Epoch 32/50\n",
            "\u001b[1m1594/1594\u001b[0m \u001b[32m━━━━━━━━━━━━━━━━━━━━\u001b[0m\u001b[37m\u001b[0m \u001b[1m5s\u001b[0m 2ms/step - accuracy: 0.6900 - loss: 0.5783 - val_accuracy: 0.6883 - val_loss: 0.5855\n",
            "Epoch 33/50\n",
            "\u001b[1m1594/1594\u001b[0m \u001b[32m━━━━━━━━━━━━━━━━━━━━\u001b[0m\u001b[37m\u001b[0m \u001b[1m5s\u001b[0m 2ms/step - accuracy: 0.6879 - loss: 0.5786 - val_accuracy: 0.6910 - val_loss: 0.5836\n",
            "Epoch 34/50\n",
            "\u001b[1m1594/1594\u001b[0m \u001b[32m━━━━━━━━━━━━━━━━━━━━\u001b[0m\u001b[37m\u001b[0m \u001b[1m3s\u001b[0m 2ms/step - accuracy: 0.6877 - loss: 0.5798 - val_accuracy: 0.6902 - val_loss: 0.5835\n",
            "Epoch 35/50\n",
            "\u001b[1m1594/1594\u001b[0m \u001b[32m━━━━━━━━━━━━━━━━━━━━\u001b[0m\u001b[37m\u001b[0m \u001b[1m6s\u001b[0m 3ms/step - accuracy: 0.6852 - loss: 0.5808 - val_accuracy: 0.6855 - val_loss: 0.5888\n",
            "Epoch 36/50\n",
            "\u001b[1m1594/1594\u001b[0m \u001b[32m━━━━━━━━━━━━━━━━━━━━\u001b[0m\u001b[37m\u001b[0m \u001b[1m4s\u001b[0m 2ms/step - accuracy: 0.6902 - loss: 0.5779 - val_accuracy: 0.6899 - val_loss: 0.5861\n",
            "Epoch 37/50\n",
            "\u001b[1m1594/1594\u001b[0m \u001b[32m━━━━━━━━━━━━━━━━━━━━\u001b[0m\u001b[37m\u001b[0m \u001b[1m5s\u001b[0m 2ms/step - accuracy: 0.6866 - loss: 0.5802 - val_accuracy: 0.6908 - val_loss: 0.5850\n",
            "Epoch 38/50\n",
            "\u001b[1m1594/1594\u001b[0m \u001b[32m━━━━━━━━━━━━━━━━━━━━\u001b[0m\u001b[37m\u001b[0m \u001b[1m6s\u001b[0m 3ms/step - accuracy: 0.6894 - loss: 0.5787 - val_accuracy: 0.6896 - val_loss: 0.5858\n",
            "Epoch 39/50\n",
            "\u001b[1m1594/1594\u001b[0m \u001b[32m━━━━━━━━━━━━━━━━━━━━\u001b[0m\u001b[37m\u001b[0m \u001b[1m4s\u001b[0m 2ms/step - accuracy: 0.6877 - loss: 0.5806 - val_accuracy: 0.6868 - val_loss: 0.5889\n",
            "Epoch 40/50\n",
            "\u001b[1m1594/1594\u001b[0m \u001b[32m━━━━━━━━━━━━━━━━━━━━\u001b[0m\u001b[37m\u001b[0m \u001b[1m5s\u001b[0m 2ms/step - accuracy: 0.6905 - loss: 0.5766 - val_accuracy: 0.6924 - val_loss: 0.5841\n",
            "Epoch 41/50\n",
            "\u001b[1m1594/1594\u001b[0m \u001b[32m━━━━━━━━━━━━━━━━━━━━\u001b[0m\u001b[37m\u001b[0m \u001b[1m5s\u001b[0m 2ms/step - accuracy: 0.6905 - loss: 0.5775 - val_accuracy: 0.6897 - val_loss: 0.5856\n",
            "Epoch 42/50\n",
            "\u001b[1m1594/1594\u001b[0m \u001b[32m━━━━━━━━━━━━━━━━━━━━\u001b[0m\u001b[37m\u001b[0m \u001b[1m5s\u001b[0m 2ms/step - accuracy: 0.6848 - loss: 0.5816 - val_accuracy: 0.6892 - val_loss: 0.5866\n",
            "Epoch 43/50\n",
            "\u001b[1m1594/1594\u001b[0m \u001b[32m━━━━━━━━━━━━━━━━━━━━\u001b[0m\u001b[37m\u001b[0m \u001b[1m4s\u001b[0m 3ms/step - accuracy: 0.6881 - loss: 0.5800 - val_accuracy: 0.6912 - val_loss: 0.5847\n",
            "Epoch 44/50\n",
            "\u001b[1m1594/1594\u001b[0m \u001b[32m━━━━━━━━━━━━━━━━━━━━\u001b[0m\u001b[37m\u001b[0m \u001b[1m4s\u001b[0m 2ms/step - accuracy: 0.6893 - loss: 0.5802 - val_accuracy: 0.6901 - val_loss: 0.5872\n",
            "Epoch 45/50\n",
            "\u001b[1m1594/1594\u001b[0m \u001b[32m━━━━━━━━━━━━━━━━━━━━\u001b[0m\u001b[37m\u001b[0m \u001b[1m5s\u001b[0m 2ms/step - accuracy: 0.6879 - loss: 0.5798 - val_accuracy: 0.6861 - val_loss: 0.5883\n",
            "Epoch 46/50\n",
            "\u001b[1m1594/1594\u001b[0m \u001b[32m━━━━━━━━━━━━━━━━━━━━\u001b[0m\u001b[37m\u001b[0m \u001b[1m6s\u001b[0m 2ms/step - accuracy: 0.6869 - loss: 0.5795 - val_accuracy: 0.6908 - val_loss: 0.5839\n",
            "Epoch 47/50\n",
            "\u001b[1m1594/1594\u001b[0m \u001b[32m━━━━━━━━━━━━━━━━━━━━\u001b[0m\u001b[37m\u001b[0m \u001b[1m3s\u001b[0m 2ms/step - accuracy: 0.6878 - loss: 0.5768 - val_accuracy: 0.6872 - val_loss: 0.5862\n",
            "Epoch 48/50\n",
            "\u001b[1m1594/1594\u001b[0m \u001b[32m━━━━━━━━━━━━━━━━━━━━\u001b[0m\u001b[37m\u001b[0m \u001b[1m6s\u001b[0m 3ms/step - accuracy: 0.6895 - loss: 0.5803 - val_accuracy: 0.6889 - val_loss: 0.5850\n",
            "Epoch 49/50\n",
            "\u001b[1m1594/1594\u001b[0m \u001b[32m━━━━━━━━━━━━━━━━━━━━\u001b[0m\u001b[37m\u001b[0m \u001b[1m4s\u001b[0m 2ms/step - accuracy: 0.6891 - loss: 0.5783 - val_accuracy: 0.6911 - val_loss: 0.5859\n",
            "Epoch 50/50\n",
            "\u001b[1m1594/1594\u001b[0m \u001b[32m━━━━━━━━━━━━━━━━━━━━\u001b[0m\u001b[37m\u001b[0m \u001b[1m3s\u001b[0m 2ms/step - accuracy: 0.6908 - loss: 0.5768 - val_accuracy: 0.6902 - val_loss: 0.5828\n"
          ]
        },
        {
          "data": {
            "text/plain": [
              "<keras.src.callbacks.history.History at 0x79d3f8d6e860>"
            ]
          },
          "execution_count": 50,
          "metadata": {},
          "output_type": "execute_result"
        }
      ],
      "source": [
        "# 50 epochs test\n",
        "best_model.fit(X_train, y_train, epochs=50, batch_size=best_params['batch_size'], validation_data=(X_test, y_test))"
      ]
    },
    {
      "cell_type": "code",
      "execution_count": 51,
      "metadata": {
        "colab": {
          "base_uri": "https://localhost:8080/"
        },
        "id": "KoNwgFIfnOj1",
        "outputId": "f8b5204f-ac5a-42eb-f41d-9acb3b413c7c"
      },
      "outputs": [
        {
          "name": "stdout",
          "output_type": "stream",
          "text": [
            "\u001b[1m399/399\u001b[0m \u001b[32m━━━━━━━━━━━━━━━━━━━━\u001b[0m\u001b[37m\u001b[0m \u001b[1m1s\u001b[0m 2ms/step - accuracy: 0.6878 - loss: 0.5846\n",
            "Accuracy: 69.02\n",
            "\u001b[1m399/399\u001b[0m \u001b[32m━━━━━━━━━━━━━━━━━━━━\u001b[0m\u001b[37m\u001b[0m \u001b[1m1s\u001b[0m 1ms/step\n",
            "              precision    recall  f1-score   support\n",
            "\n",
            "           0       0.68      0.70      0.69      6343\n",
            "           1       0.70      0.68      0.69      6408\n",
            "\n",
            "    accuracy                           0.69     12751\n",
            "   macro avg       0.69      0.69      0.69     12751\n",
            "weighted avg       0.69      0.69      0.69     12751\n",
            "\n"
          ]
        }
      ],
      "source": [
        "_, accuracy = best_model.evaluate(X_test, y_test)\n",
        "print('Accuracy: %.2f' % (accuracy*100))\n",
        "\n",
        "y_pred = best_model.predict(X_test)\n",
        "y_pred = (y_pred > 0.5)\n",
        "\n",
        "print(classification_report(y_test, y_pred))"
      ]
    }
  ],
  "metadata": {
    "accelerator": "GPU",
    "colab": {
      "gpuType": "T4",
      "provenance": []
    },
    "kernelspec": {
      "display_name": "Python 3",
      "name": "python3"
    },
    "language_info": {
      "name": "python"
    }
  },
  "nbformat": 4,
  "nbformat_minor": 0
}
